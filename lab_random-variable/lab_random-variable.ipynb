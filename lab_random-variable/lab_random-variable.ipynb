{
 "cells": [
  {
   "cell_type": "markdown",
   "metadata": {},
   "source": [
    "# Lab: Simulation + Random Variables\n",
    "\n",
    "Today, you'll finish one more simulation and move on to exploring analysis of random variables!"
   ]
  },
  {
   "cell_type": "markdown",
   "metadata": {},
   "source": [
    "# Part 1: Dominion Game"
   ]
  },
  {
   "cell_type": "markdown",
   "metadata": {},
   "source": [
    "### Starting Deck\n",
    "\n",
    "One of Wade's (waf) favorite table top games in the world is Dominion.  In Dominion, each player starts with a deck of ten cards:\n",
    "\n",
    "![starting-deck.png](starting-deck.png)\n",
    "\n",
    "These cards are the following:\n",
    "\n",
    "- Seven identical cards of a copper coin and\n",
    "- Three identical cards of an estate\n",
    "\n",
    "### Starting Hand\n",
    "\n",
    "In the beginning of the game, each player:\n",
    "\n",
    "1. Shuffles their 10-card deck and\n",
    "2. Draws five of their cards\n",
    "\n",
    "The order of the five cards do not matter (or the card itself).  Therefore, there are four possible \"starting hands\":\n",
    "\n",
    "![image.png](3e2c.png)\n",
    "<center>Possible Starting Hand #1: Three Estates, Two Coppers</center>\n",
    "\n",
    "![image.png](2e3c.png)\n",
    "<center>Possible Starting Hand #2: Two Estates, Three Coppers</center>\n",
    "\n",
    "![image.png](1e4c.png)\n",
    "<center>Possible Starting Hand #3: One Estate, Four Coppers</center>\n",
    "\n",
    "![image.png](5c.png)\n",
    "<center>Possible Starting Hand #4: Five Coppers</center>"
   ]
  },
  {
   "cell_type": "markdown",
   "metadata": {},
   "source": [
    "## Puzzle 1: Using Statistics\n",
    "\n",
    "Compute the probability of drawing a starting hand of all 5 coppers in the following four cells.  Remember:\n",
    "\n",
    "- You are drawing from a 10 card deck, with two different types of cards.\n",
    "- To draw all five coppers, you must **NOT** draw a single estate.\n",
    "- The answer is **NOT** 0.25 (1 out of 4).  Some starting hands are more likely than others."
   ]
  },
  {
   "cell_type": "code",
   "execution_count": 323,
   "metadata": {
    "deletable": false,
    "nbgrader": {
     "cell_type": "code",
     "checksum": "cec157773911a509c93a24191180c3d4",
     "grade": false,
     "grade_id": "cell-71bc8c45675e0751",
     "locked": false,
     "schema_version": 3,
     "solution": true,
     "task": false
    }
   },
   "outputs": [
    {
     "data": {
      "text/plain": [
       "0.08333333333333331"
      ]
     },
     "execution_count": 323,
     "metadata": {},
     "output_type": "execute_result"
    }
   ],
   "source": [
    "P_5coppers = (7/10) * (6/9) * (5/8) * (4/7) * (3/6)\n",
    "P_5coppers\n",
    "\n",
    "#No estates"
   ]
  },
  {
   "cell_type": "code",
   "execution_count": 324,
   "metadata": {
    "deletable": false,
    "editable": false,
    "nbgrader": {
     "cell_type": "code",
     "checksum": "2737cf46d1248b6f7176fac85f8ffd39",
     "grade": true,
     "grade_id": "cell-95c72a857f5ebebd",
     "locked": true,
     "points": 1,
     "schema_version": 3,
     "solution": false,
     "task": false
    }
   },
   "outputs": [
    {
     "name": "stdout",
     "output_type": "stream",
     "text": [
      "🎉 All tests passed! 🎉\n",
      "\n"
     ]
    }
   ],
   "source": [
    "## == TEST CASES for Puzzle 1 ==\n",
    "# - This read-only cell contains test cases for your previous cell(s).\n",
    "# - If this cell runs without any errors in the output, you PASSED all test cases!\n",
    "# - If this cell results errors, check you previous cell, make changes, and RE-RUN your code and then this cell.\n",
    "assert( abs((P_5coppers ** (1/4)) - 0.5372849659) < 0.0001 ), \"Your P_5coppers appears to be incorrect.\"\n",
    "\n",
    "## == SUCCESS MESSAGE ==\n",
    "# You will only see this message (with the emoji showing) if you passed all test cases:\n",
    "tada = \"\\N{PARTY POPPER}\"\n",
    "print(f\"{tada} All tests passed! {tada}\")\n",
    "print()"
   ]
  },
  {
   "cell_type": "markdown",
   "metadata": {},
   "source": [
    "## Puzzle #2: Simulation of One Starting Hand\n",
    "\n",
    "Finding the probability of drawing exactly one, two, or all three estates become increasingly complex.  You **DO** have the math to do it (but the equations get VERY long quickly).\n",
    "\n",
    "Instead of calculating the number of coppers, we can simulate this in Python!  Create a **function** that simulates drawing your \"starting hand\" of five cards from the ten card deck.  The function will `return` the total number of coppers draw."
   ]
  },
  {
   "cell_type": "code",
   "execution_count": 325,
   "metadata": {
    "deletable": false,
    "nbgrader": {
     "cell_type": "code",
     "checksum": "9ac6c3a38ea26d4cfe3ee49d5915ad2b",
     "grade": false,
     "grade_id": "cell-b81ef52c7e60017b",
     "locked": false,
     "schema_version": 3,
     "solution": true,
     "task": false
    }
   },
   "outputs": [],
   "source": [
    "import random\n",
    "import pandas as pd\n",
    "import numpy as np\n",
    "\n",
    "def startingHandCoppers():\n",
    "    coppers = 0\n",
    "    cards = np.random.choice(10,5, replace = False)\n",
    "    for i in cards:\n",
    "        if i > 2:\n",
    "            coppers = coppers + 1\n",
    "    return coppers\n",
    "        \n",
    "    \n",
    "\n",
    "#0,1,2 are estates, 3-9 are coppers"
   ]
  },
  {
   "cell_type": "code",
   "execution_count": 23,
   "metadata": {
    "deletable": false,
    "nbgrader": {
     "cell_type": "code",
     "checksum": "6df1379a766f7a4868085932245af8dd",
     "grade": false,
     "grade_id": "cell-c83b57fc622ea996",
     "locked": false,
     "schema_version": 3,
     "solution": true,
     "task": false
    }
   },
   "outputs": [
    {
     "data": {
      "text/plain": [
       "3"
      ]
     },
     "execution_count": 23,
     "metadata": {},
     "output_type": "execute_result"
    }
   ],
   "source": [
    "# Here's a cell to run to test your function:\n",
    "startingHandCoppers()\n",
    "#np.random.choice(10,5, replace = False)"
   ]
  },
  {
   "cell_type": "code",
   "execution_count": 327,
   "metadata": {
    "deletable": false,
    "editable": false,
    "nbgrader": {
     "cell_type": "code",
     "checksum": "d5e38b0f95e5a63a2eeda022e8a010d4",
     "grade": true,
     "grade_id": "cell-b38a24f4ba267c8f",
     "locked": true,
     "points": 1,
     "schema_version": 3,
     "solution": false,
     "task": false
    }
   },
   "outputs": [
    {
     "name": "stdout",
     "output_type": "stream",
     "text": [
      "🎉 All tests passed! 🎉\n",
      "\n"
     ]
    }
   ],
   "source": [
    "## == TEST CASES for Puzzle 2 ==\n",
    "# - This read-only cell contains test cases for your previous cell(s).\n",
    "# - If this cell runs without any errors in the output, you PASSED all test cases!\n",
    "# - If this cell results errors, check you previous cell, make changes, and RE-RUN your code and then this cell.\n",
    "has2 = False\n",
    "has3 = False\n",
    "has4 = False\n",
    "has5 = False\n",
    "\n",
    "for i in range(10000):\n",
    "    v = startingHandCoppers()\n",
    "    if (v == 2): has2 = True\n",
    "    elif (v == 3): has3 = True\n",
    "    elif (v == 4): has4 = True\n",
    "    elif (v == 5): has5 = True\n",
    "    else: assert( False ), f\"Your starting hand had {v} coppers, this is not possible. :(\"\n",
    "    \n",
    "    if (has2 and has3 and has4 and has5): break\n",
    "\n",
    "assert( has2 ), \"Your starting hand never had 2 coppers. It is possible to have 3 estates and 2 coppers.\"\n",
    "assert( has3 ), \"Your starting hand never had 3 coppers. It is possible to have 2 estates and 3 coppers.\"\n",
    "assert( has4 ), \"Your starting hand never had 4 coppers. It is possible to have 1 estate and 4 coppers.\"\n",
    "assert( has5 ), \"Your starting hand never had 5 coppers. It is possible to have 0 estates and 5 coppers.\"\n",
    "\n",
    "## == SUCCESS MESSAGE ==\n",
    "# You will only see this message (with the emoji showing) if you passed all test cases:\n",
    "tada = \"\\N{PARTY POPPER}\"\n",
    "print(f\"{tada} All tests passed! {tada}\")\n",
    "print()"
   ]
  },
  {
   "cell_type": "markdown",
   "metadata": {},
   "source": [
    "## Puzzle 3: Simulation of 1,000 starting hands\n",
    "\n",
    "Using your `startingHandCoppers()` function from Puzzle 2, simulate and store the number of coppers from at least 1,000 starting hands.  Make sure to store your coppers in a column named `coppers`."
   ]
  },
  {
   "cell_type": "code",
   "execution_count": 348,
   "metadata": {
    "deletable": false,
    "nbgrader": {
     "cell_type": "code",
     "checksum": "6b10ad10f72dee75e6408c954365370f",
     "grade": false,
     "grade_id": "cell-f95b0125c22b4f94",
     "locked": false,
     "schema_version": 3,
     "solution": true,
     "task": false
    }
   },
   "outputs": [
    {
     "data": {
      "text/html": [
       "<div>\n",
       "<style scoped>\n",
       "    .dataframe tbody tr th:only-of-type {\n",
       "        vertical-align: middle;\n",
       "    }\n",
       "\n",
       "    .dataframe tbody tr th {\n",
       "        vertical-align: top;\n",
       "    }\n",
       "\n",
       "    .dataframe thead th {\n",
       "        text-align: right;\n",
       "    }\n",
       "</style>\n",
       "<table border=\"1\" class=\"dataframe\">\n",
       "  <thead>\n",
       "    <tr style=\"text-align: right;\">\n",
       "      <th></th>\n",
       "      <th>coppers</th>\n",
       "    </tr>\n",
       "  </thead>\n",
       "  <tbody>\n",
       "    <tr>\n",
       "      <td>139670</td>\n",
       "      <td>4</td>\n",
       "    </tr>\n",
       "    <tr>\n",
       "      <td>496024</td>\n",
       "      <td>4</td>\n",
       "    </tr>\n",
       "    <tr>\n",
       "      <td>449205</td>\n",
       "      <td>3</td>\n",
       "    </tr>\n",
       "    <tr>\n",
       "      <td>499961</td>\n",
       "      <td>3</td>\n",
       "    </tr>\n",
       "    <tr>\n",
       "      <td>160619</td>\n",
       "      <td>4</td>\n",
       "    </tr>\n",
       "  </tbody>\n",
       "</table>\n",
       "</div>"
      ],
      "text/plain": [
       "        coppers\n",
       "139670        4\n",
       "496024        4\n",
       "449205        3\n",
       "499961        3\n",
       "160619        4"
      ]
     },
     "execution_count": 348,
     "metadata": {},
     "output_type": "execute_result"
    }
   ],
   "source": [
    "# Run your simulation:\n",
    "data = []\n",
    "\n",
    "for i in range(500000):\n",
    "    d = {\"coppers\": startingHandCoppers()}\n",
    "    data.append(d)\n",
    "\n",
    "\n",
    "# Store your results as a DataFrame:\n",
    "df = pd.DataFrame(data)\n",
    "\n",
    "\n",
    "\n",
    "# Display a few random starting hands...\n",
    "df.sample(5)"
   ]
  },
  {
   "cell_type": "markdown",
   "metadata": {},
   "source": [
    "### Puzzle 3.1: Building a Histogram of Coppers\n",
    "\n",
    "Create a histogram showing the number of coppers in the starting hands you simulated.  Choose the correct number of bins to create a histogram that looks great!"
   ]
  },
  {
   "cell_type": "code",
   "execution_count": 349,
   "metadata": {},
   "outputs": [
    {
     "data": {
      "text/html": [
       "<div>\n",
       "<style scoped>\n",
       "    .dataframe tbody tr th:only-of-type {\n",
       "        vertical-align: middle;\n",
       "    }\n",
       "\n",
       "    .dataframe tbody tr th {\n",
       "        vertical-align: top;\n",
       "    }\n",
       "\n",
       "    .dataframe thead th {\n",
       "        text-align: right;\n",
       "    }\n",
       "</style>\n",
       "<table border=\"1\" class=\"dataframe\">\n",
       "  <thead>\n",
       "    <tr style=\"text-align: right;\">\n",
       "      <th></th>\n",
       "      <th>coppers</th>\n",
       "    </tr>\n",
       "  </thead>\n",
       "  <tbody>\n",
       "  </tbody>\n",
       "</table>\n",
       "</div>"
      ],
      "text/plain": [
       "Empty DataFrame\n",
       "Columns: [coppers]\n",
       "Index: []"
      ]
     },
     "execution_count": 349,
     "metadata": {},
     "output_type": "execute_result"
    }
   ],
   "source": [
    "df[df[\"coppers\"] == 1]"
   ]
  },
  {
   "cell_type": "code",
   "execution_count": 350,
   "metadata": {
    "deletable": false,
    "nbgrader": {
     "cell_type": "code",
     "checksum": "dd59ba60fccd1abedde3cace6e675a53",
     "grade": false,
     "grade_id": "cell-71f79b0ddda53710",
     "locked": false,
     "schema_version": 3,
     "solution": true,
     "task": false
    }
   },
   "outputs": [
    {
     "data": {
      "text/plain": [
       "array([[<matplotlib.axes._subplots.AxesSubplot object at 0x000002695EE5AE10>]],\n",
       "      dtype=object)"
      ]
     },
     "execution_count": 350,
     "metadata": {},
     "output_type": "execute_result"
    },
    {
     "data": {
      "image/png": "[encoded data removed]",
      "text/plain": [
       "<Figure size 432x288 with 1 Axes>"
      ]
     },
     "metadata": {
      "needs_background": "light"
     },
     "output_type": "display_data"
    }
   ],
   "source": [
    "df.hist(bins = 4)\n",
    "\n"
   ]
  },
  {
   "cell_type": "code",
   "execution_count": 351,
   "metadata": {
    "deletable": false,
    "editable": false,
    "nbgrader": {
     "cell_type": "code",
     "checksum": "ad1084eb220108f86f91d4c8a88c9e6b",
     "grade": true,
     "grade_id": "cell-064cb0bd59cefe49",
     "locked": true,
     "points": 1,
     "schema_version": 3,
     "solution": false,
     "task": false
    }
   },
   "outputs": [
    {
     "name": "stdout",
     "output_type": "stream",
     "text": [
      "🎉 All tests passed! 🎉\n",
      "\n",
      "- You have a simulation that runs 500000 starting hands of Dominion!\n",
      "- Simulated expected value of Coppers: 3.499148 coppers per starting hand\n"
     ]
    }
   ],
   "source": [
    "## == TEST CASES for Puzzle 3 ==\n",
    "# - This read-only cell contains test cases for your previous cell(s).\n",
    "# - If this cell runs without any errors in the output, you PASSED all test cases!\n",
    "# - If this cell results errors, check you previous cell, make changes, and RE-RUN your code and then this cell.\n",
    "assert( len(df) >= 1000 ), \"Your simulation must have at least 1,000 observations.\"\n",
    "assert( 'coppers' in df ), \"Your simulation must have a column called `coppers`.\"\n",
    "assert( 3 < df['coppers'].mean() < 4 ), \"Your simulation should have a mean value around 3.5 -- you may want to check if your Puzzle 2 function is correct?\"\n",
    "\n",
    "## == SUCCESS MESSAGE ==\n",
    "# You will only see this message (with the emoji showing) if you passed all test cases:\n",
    "tada = \"\\N{PARTY POPPER}\"\n",
    "print(f\"{tada} All tests passed! {tada}\")\n",
    "print()\n",
    "print(f\"- You have a simulation that runs {len(df)} starting hands of Dominion!\")\n",
    "print(f\"- Simulated expected value of Coppers: {df['coppers'].mean()} coppers per starting hand\")\n"
   ]
  },
  {
   "cell_type": "markdown",
   "metadata": {},
   "source": [
    "## Puzzle 4: Your Random Variable\n",
    "\n",
    "In your simulation, you created a random variable!  Let's call this random variable $C$:\n",
    "\n",
    "<p><center>$C$ is the number of coppers drawn in your opening hand</center></p>\n",
    "\n",
    "Using the histogram above, complete the following cells for the different probabilities of $C$ for various numbers of coppers."
   ]
  },
  {
   "cell_type": "code",
   "execution_count": 352,
   "metadata": {
    "deletable": false,
    "nbgrader": {
     "cell_type": "code",
     "checksum": "3f1d05756c941c664293dcd1563b977e",
     "grade": false,
     "grade_id": "cell-59a28408426605b1",
     "locked": false,
     "schema_version": 3,
     "solution": true,
     "task": false
    }
   },
   "outputs": [
    {
     "data": {
      "text/plain": [
       "0.083644"
      ]
     },
     "execution_count": 352,
     "metadata": {},
     "output_type": "execute_result"
    }
   ],
   "source": [
    "# Probability of 2 coppers:\n",
    "C_2coppers = len(df[df[\"coppers\"] == 2]) / len(df)\n",
    "C_2coppers\n"
   ]
  },
  {
   "cell_type": "code",
   "execution_count": 353,
   "metadata": {
    "deletable": false,
    "nbgrader": {
     "cell_type": "code",
     "checksum": "3696087c3bbca9f193521eeaa608e6c2",
     "grade": false,
     "grade_id": "cell-c80474f2a9eb5a2b",
     "locked": false,
     "schema_version": 3,
     "solution": true,
     "task": false
    }
   },
   "outputs": [
    {
     "data": {
      "text/plain": [
       "0.416584"
      ]
     },
     "execution_count": 353,
     "metadata": {},
     "output_type": "execute_result"
    }
   ],
   "source": [
    "# Probability of 3 coppers:\n",
    "C_3coppers = len(df[df[\"coppers\"] == 3]) / len(df)\n",
    "C_3coppers\n",
    "\n"
   ]
  },
  {
   "cell_type": "code",
   "execution_count": 354,
   "metadata": {
    "deletable": false,
    "nbgrader": {
     "cell_type": "code",
     "checksum": "70d74662d52200f5f56e2faa02cf6f18",
     "grade": false,
     "grade_id": "cell-cf52cb61d300e8c2",
     "locked": false,
     "schema_version": 3,
     "solution": true,
     "task": false
    }
   },
   "outputs": [
    {
     "data": {
      "text/plain": [
       "0.416752"
      ]
     },
     "execution_count": 354,
     "metadata": {},
     "output_type": "execute_result"
    }
   ],
   "source": [
    "# Probability of 4 coppers:\n",
    "C_4coppers = len(df[df[\"coppers\"] == 4]) / len(df)\n",
    "C_4coppers\n",
    "\n"
   ]
  },
  {
   "cell_type": "code",
   "execution_count": 355,
   "metadata": {
    "deletable": false,
    "nbgrader": {
     "cell_type": "code",
     "checksum": "343a128e77822f447770175b8157db91",
     "grade": false,
     "grade_id": "cell-a835e934dde8fb6b",
     "locked": false,
     "schema_version": 3,
     "solution": true,
     "task": false
    }
   },
   "outputs": [
    {
     "data": {
      "text/plain": [
       "0.08302"
      ]
     },
     "execution_count": 355,
     "metadata": {},
     "output_type": "execute_result"
    }
   ],
   "source": [
    "# Probability of 5 coppers:\n",
    "C_5coppers = len(df[df[\"coppers\"] == 5]) / len(df)\n",
    "C_5coppers\n",
    "\n"
   ]
  },
  {
   "cell_type": "markdown",
   "metadata": {},
   "source": [
    "#### Sanity Check\n",
    "\n",
    "Remember, all probabilities must add up to 1!  Let's see if yours do:"
   ]
  },
  {
   "cell_type": "code",
   "execution_count": 356,
   "metadata": {},
   "outputs": [
    {
     "data": {
      "text/plain": [
       "1.0"
      ]
     },
     "execution_count": 356,
     "metadata": {},
     "output_type": "execute_result"
    }
   ],
   "source": [
    "C_all = C_2coppers + C_3coppers + C_4coppers + C_5coppers\n",
    "C_all"
   ]
  },
  {
   "cell_type": "markdown",
   "metadata": {},
   "source": [
    "Let's also check that your simulation matches (or nearly matches) your calculated probability:"
   ]
  },
  {
   "cell_type": "code",
   "execution_count": 357,
   "metadata": {},
   "outputs": [
    {
     "data": {
      "text/plain": [
       "0.00031333333333331825"
      ]
     },
     "execution_count": 357,
     "metadata": {},
     "output_type": "execute_result"
    }
   ],
   "source": [
    "# The result of this cell should be 0 or *VERY CLOSE* to 0:\n",
    "P_5coppers - C_5coppers"
   ]
  },
  {
   "cell_type": "code",
   "execution_count": 358,
   "metadata": {
    "deletable": false,
    "editable": false,
    "nbgrader": {
     "cell_type": "code",
     "checksum": "e35013a82a993a5d9ad497c00f0fdc44",
     "grade": true,
     "grade_id": "cell-8193ddffa24a34b7",
     "locked": true,
     "points": 1,
     "schema_version": 3,
     "solution": false,
     "task": false
    }
   },
   "outputs": [
    {
     "name": "stdout",
     "output_type": "stream",
     "text": [
      "🎉 All tests passed! 🎉\n"
     ]
    }
   ],
   "source": [
    "## == TEST CASES for Puzzle 4 ==\n",
    "# - This read-only cell contains test cases for your previous cell(s).\n",
    "# - If this cell runs without any errors in the output, you PASSED all test cases!\n",
    "# - If this cell results errors, check you previous cell, make changes, and RE-RUN your code and then this cell.\n",
    "assert( abs(C_2coppers + C_3coppers + C_4coppers + C_5coppers - 1.0) < 0.001 ), \"Your probabilities must add up to 1.0!\"\n",
    "assert( abs(P_5coppers - C_5coppers) < 0.05), \"The probability from your simulation must closely match the expected result (from Puzzle #1)\"\n",
    "\n",
    "## == SUCCESS MESSAGE ==\n",
    "# You will only see this message (with the emoji showing) if you passed all test cases:\n",
    "tada = \"\\N{PARTY POPPER}\"\n",
    "print(f\"{tada} All tests passed! {tada}\")\n"
   ]
  },
  {
   "cell_type": "markdown",
   "metadata": {},
   "source": [
    "## Puzzle 5: Statistics on C\n",
    "\n",
    "Based on what you developed for $C$, find the mean for $C$.  In other words, find the expected value. The formula is on your note sheet from Wednesday :)"
   ]
  },
  {
   "cell_type": "code",
   "execution_count": 359,
   "metadata": {
    "deletable": false,
    "nbgrader": {
     "cell_type": "code",
     "checksum": "c35b53a7309b3d6dbd6e11265f5ac0c2",
     "grade": false,
     "grade_id": "cell-d59c5a1247eeccc6",
     "locked": false,
     "schema_version": 3,
     "solution": true,
     "task": false
    }
   },
   "outputs": [
    {
     "data": {
      "text/plain": [
       "3.499148"
      ]
     },
     "execution_count": 359,
     "metadata": {},
     "output_type": "execute_result"
    }
   ],
   "source": [
    "# Mean for C:\n",
    "C_mean = 2 * C_2coppers + 3 * C_3coppers + 4 * C_4coppers + 5 * C_5coppers\n",
    "C_mean\n",
    "\n"
   ]
  },
  {
   "cell_type": "code",
   "execution_count": 360,
   "metadata": {
    "deletable": false,
    "editable": false,
    "nbgrader": {
     "cell_type": "code",
     "checksum": "1b02a7ab5a5fa1dd27ec2b21a64c8aaf",
     "grade": true,
     "grade_id": "cell-905cd3f43b42c32a",
     "locked": true,
     "points": 1,
     "schema_version": 3,
     "solution": false,
     "task": false
    }
   },
   "outputs": [
    {
     "name": "stdout",
     "output_type": "stream",
     "text": [
      "🎉 All tests passed! 🎉\n"
     ]
    }
   ],
   "source": [
    "## == TEST CASES for Puzzle 5 ==\n",
    "# - This read-only cell contains test cases for your previous cell(s).\n",
    "# - If this cell runs without any errors in the output, you PASSED all test cases!\n",
    "# - If this cell results errors, check you previous cell, make changes, and RE-RUN your code and then this cell.\n",
    "assert( abs(C_mean-3.5) < 0.001 ), \"Double check your formula for C_mean!\"\n",
    "\n",
    "## == SUCCESS MESSAGE ==\n",
    "# You will only see this message (with the emoji showing) if you passed all test cases:\n",
    "tada = \"\\N{PARTY POPPER}\"\n",
    "print(f\"{tada} All tests passed! {tada}\")"
   ]
  },
  {
   "cell_type": "markdown",
   "metadata": {},
   "source": [
    "## Submit Your Work :)\n",
    "\n",
    "Make sure to **Save and Checkpoint** your notebook, exit Jupyter, and submit your work! :)"
   ]
  }
 ],
 "metadata": {
  "kernelspec": {
   "display_name": "Python 3",
   "language": "python",
   "name": "python3"
  },
  "language_info": {
   "codemirror_mode": {
    "name": "ipython",
    "version": 3
   },
   "file_extension": ".py",
   "mimetype": "text/x-python",
   "name": "python",
   "nbconvert_exporter": "python",
   "pygments_lexer": "ipython3",
   "version": "3.7.3"
  }
 },
 "nbformat": 4,
 "nbformat_minor": 2
}
