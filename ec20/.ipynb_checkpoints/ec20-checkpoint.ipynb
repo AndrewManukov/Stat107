{
 "cells": [
  {
   "cell_type": "markdown",
   "metadata": {
    "deletable": false,
    "editable": false,
    "nbgrader": {
     "cell_type": "markdown",
     "checksum": "40cfa705a1f9c12804f4b7ed8cabbd5b",
     "grade": false,
     "grade_id": "cell-67e7afc4b4ff4e96",
     "locked": true,
     "schema_version": 3,
     "solution": false,
     "task": false
    }
   },
   "source": [
    "# EC Notebook for Lecture 20: Simulation Analysis\n",
    "\n",
    "This extra credit Python notebook will let you practice the material you saw in lecture.  Completing all parts of this notebook will earn +1 extra credit point to your grade in STAT 107! :)\n",
    "\n",
    "This notebook is worth +1 if turned in before 11:30 am on **Wednesday, Oct. 16** *(30 minutes before the next STAT 107 lecture)*.  You can feel free to complete it anytime for extra practice."
   ]
  },
  {
   "cell_type": "markdown",
   "metadata": {
    "deletable": false,
    "editable": false,
    "nbgrader": {
     "cell_type": "markdown",
     "checksum": "774951be57741b065a6602d5312d648d",
     "grade": false,
     "grade_id": "cell-959f443304692271",
     "locked": true,
     "schema_version": 3,
     "solution": false,
     "task": false
    }
   },
   "source": [
    "## Probability Analysis \n",
    "\n",
    "In the lecture, we simulate the results of our next exam. Now let's play a gambling game about flipping coins! The rule of the game is as follows:\n",
    "\n",
    "1. Before the game, you need to pay \\$30 to start the game. \n",
    "2. Game starts! You have 10 numbered coins to flip, every coin can be flipped only once.\n",
    "3. Every time you finish flipping the coins, you will get some prize,\n",
    "    1. If the 1st coin is head, you will get \\$1.\n",
    "    2. If the 2nd coin is head, you will get \\$2.\n",
    "    3. ....\n",
    "    10. If the 10th coin is head, you will get \\$10.\n",
    "     \n",
    "    \n",
    "\n",
    "\n",
    "### Part 1: Simulation Function\n",
    "\n",
    "Create a function to simulate the game and return the prize you get by flipping 10 coins."
   ]
  },
  {
   "cell_type": "code",
   "execution_count": 44,
   "metadata": {
    "deletable": false,
    "nbgrader": {
     "cell_type": "code",
     "checksum": "9d16fc1ea435e68178963b4ec7c51023",
     "grade": false,
     "grade_id": "cell-3182d2cfb9079fe2",
     "locked": false,
     "schema_version": 3,
     "solution": true,
     "task": false
    }
   },
   "outputs": [
    {
     "data": {
      "text/plain": [
       "35"
      ]
     },
     "execution_count": 44,
     "metadata": {},
     "output_type": "execute_result"
    }
   ],
   "source": [
    "import pandas as pd\n",
    "import random\n",
    "\n",
    "def coin_game():\n",
    "    coins = []\n",
    "    prize = 0\n",
    "    for i in range(10):\n",
    "        coin = random.randint(0,1)\n",
    "        coins.append(coin)\n",
    "        if(coin == 1):\n",
    "            prize = prize + i + 1\n",
    "        \n",
    "    return prize\n",
    "        \n",
    "        \n",
    "\n",
    "\n",
    "\n",
    "# Have a try!\n",
    "coin_game()"
   ]
  },
  {
   "cell_type": "markdown",
   "metadata": {},
   "source": [
    "The game sounds profitable! You feel excited and plan to play the game for 10,000 times. \n",
    "\n",
    "### Part 2: Game Begins!\n",
    "Write a simulation to play the coin game for 10,000 times and store reward you get for each time in a DataFrame called `df`. **(Hint: reward = prize - payoff)**"
   ]
  },
  {
   "cell_type": "code",
   "execution_count": 48,
   "metadata": {
    "deletable": false,
    "nbgrader": {
     "cell_type": "code",
     "checksum": "de3672a04f31de2f19b8dd3ee9bacb19",
     "grade": false,
     "grade_id": "cell-8b0f0ef67575550d",
     "locked": false,
     "schema_version": 3,
     "solution": true,
     "task": false
    }
   },
   "outputs": [
    {
     "name": "stdout",
     "output_type": "stream",
     "text": [
      "      reward\n",
      "8223       3\n",
      "8609       7\n",
      "1730      13\n",
      "8731      12\n",
      "8642       2\n"
     ]
    },
    {
     "data": {
      "text/plain": [
       "array([[<matplotlib.axes._subplots.AxesSubplot object at 0x00000209B1DB9860>]],\n",
       "      dtype=object)"
      ]
     },
     "execution_count": 48,
     "metadata": {},
     "output_type": "execute_result"
    },
    {
     "data": {
      "image/png": "[encoded data removed]",
      "text/plain": [
       "<Figure size 432x288 with 1 Axes>"
      ]
     },
     "metadata": {
      "needs_background": "light"
     },
     "output_type": "display_data"
    }
   ],
   "source": [
    "data = []\n",
    "cost = 30\n",
    "\n",
    "for i in range(10000):\n",
    "    d = { \"reward\": cost - coin_game() }\n",
    "    data.append(d)\n",
    "    \n",
    "\n",
    "df = pd.DataFrame(data)\n",
    "\n",
    "\n",
    "# Print out a few random rows:\n",
    "print(df.sample(5))\n",
    "# Let’s build some visualizations:\n",
    "df.hist()"
   ]
  },
  {
   "cell_type": "markdown",
   "metadata": {
    "deletable": false,
    "editable": false,
    "nbgrader": {
     "cell_type": "markdown",
     "checksum": "423662a9d4692811fcf47e9ec9e8f8bf",
     "grade": false,
     "grade_id": "cell-9977fb06da3a0db6",
     "locked": true,
     "schema_version": 3,
     "solution": false,
     "task": false
    }
   },
   "source": [
    "Is this game really profitable? Looking at the histogram you get, you begin to doubt and remember the cumulative average learned in the lecture may help.\n",
    "\n",
    "### Part 3: Law of Large Numbers\n",
    "Calculating your Cumulative Average Reward of the games and store it in a new column `average`."
   ]
  },
  {
   "cell_type": "code",
   "execution_count": 49,
   "metadata": {
    "deletable": false,
    "nbgrader": {
     "cell_type": "code",
     "checksum": "e4b8627d03b7dbaeb773a9d02d3b2509",
     "grade": false,
     "grade_id": "cell-9b6af2e58eb5bdd7",
     "locked": false,
     "schema_version": 3,
     "solution": true,
     "task": false
    }
   },
   "outputs": [
    {
     "data": {
      "text/plain": [
       "<matplotlib.axes._subplots.AxesSubplot at 0x209b1f65fd0>"
      ]
     },
     "execution_count": 49,
     "metadata": {},
     "output_type": "execute_result"
    },
    {
     "data": {
      "image/png": "[encoded data removed]",
      "text/plain": [
       "<Figure size 432x288 with 1 Axes>"
      ]
     },
     "metadata": {
      "needs_background": "light"
     },
     "output_type": "display_data"
    }
   ],
   "source": [
    "df['average'] = df['reward'].cumsum() / (df.index + 1)\n",
    "\n",
    "\n",
    "\n",
    "df['average'].plot()"
   ]
  },
  {
   "cell_type": "code",
   "execution_count": 50,
   "metadata": {
    "deletable": false,
    "editable": false,
    "nbgrader": {
     "cell_type": "code",
     "checksum": "6b889ed0ad2467c92fca670485543121",
     "grade": true,
     "grade_id": "cell-621e2757b30ebf38",
     "locked": true,
     "points": 1,
     "schema_version": 3,
     "solution": false,
     "task": false
    }
   },
   "outputs": [
    {
     "name": "stdout",
     "output_type": "stream",
     "text": [
      "🎉 All tests passed! 🎉\n",
      "\n"
     ]
    }
   ],
   "source": [
    "## == TEST CASES for Part 1,2,3 ==\n",
    "# - This read-only cell contains test cases for your previous cell.\n",
    "# - If this cell runs without any error our output, you PASSED all test cases!\n",
    "# - If this cell results in any errors, check you previous cell, make changes, and RE-RUN your code and then this cell.\n",
    "\n",
    "assert(coin_game() <= 55 and coin_game() >= 0), \"Make sure you play the right game\"\n",
    "assert(len(df) == 10000), \"Make sure you played exactly 10,000 times\"\n",
    "assert(abs(df['reward'].sum()/10000 - df['average'][9999]) < 0.0001), \"Make sure you stored correct average reward\"\n",
    "\n",
    "## == SUCCESS MESSAGE ==\n",
    "# You will only see this message (with the emoji showing) if you passed all test cases:\n",
    "tada = \"\\N{PARTY POPPER}\"\n",
    "print(f\"{tada} All tests passed! {tada}\")\n",
    "print()\n"
   ]
  }
 ],
 "metadata": {
  "kernelspec": {
   "display_name": "Python 3",
   "language": "python",
   "name": "python3"
  },
  "language_info": {
   "codemirror_mode": {
    "name": "ipython",
    "version": 3
   },
   "file_extension": ".py",
   "mimetype": "text/x-python",
   "name": "python",
   "nbconvert_exporter": "python",
   "pygments_lexer": "ipython3",
   "version": "3.7.3"
  }
 },
 "nbformat": 4,
 "nbformat_minor": 2
}
