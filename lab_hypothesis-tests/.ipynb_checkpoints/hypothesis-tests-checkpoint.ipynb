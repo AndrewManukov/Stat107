{
 "cells": [
  {
   "cell_type": "markdown",
   "metadata": {},
   "source": [
    "# Lab: Hypothesis Testing\n",
    "\n",
    "\n",
    "## More Sleep Always! \n",
    "\n",
    "SLEEP! It's a beautiful thing that most of us don't get enough of!  There has been a lot of research done looking the amount of sleep different people get on average.  The following is an example of one of them. \n",
    "\n",
    "In 2013, [Gallup completed their latest survey on sleep](https://news.gallup.com/poll/166553/less-recommended-amount-sleep.aspx) that shows that the average amount of sleep Americans get is 6.8 hours ($\\mu = 6.8$). This seems a bit low, right? How do you think our class average in Data Science DISCOVERY compares to this? It might be less than 6.8 or it may be more than that. Let's find out if the ideal hours of sleep STAT 107 students would get is significantly different from the average amount of sleep that all Americans get reported by Gallup. For the sake of this lab, assume our survey data is a random sample from the population (Americans).\n",
    "\n",
    "Run a **hypothesis test** to find out if the data we have is significantly different from the population/Gallup poll. \n",
    "\n",
    "You need to look at the Day 1 Dataset (from the first week of class) which gives you the ideal amount of sleep Stat 107 students get each week. Here's the link (make sure to login with @illinois): https://docs.google.com/spreadsheets/d/1LB4E89GoVi5yezEfHhopbI5BMxodSG7VvoznkaAkMAQ/edit#gid=0\n",
    "\n",
    "As always, start with uploading dataset to your notebook, and import the relevant libraries to your notebook.\n"
   ]
  },
  {
   "cell_type": "code",
   "execution_count": 1,
   "metadata": {},
   "outputs": [
    {
     "data": {
      "text/html": [
       "<div>\n",
       "<style scoped>\n",
       "    .dataframe tbody tr th:only-of-type {\n",
       "        vertical-align: middle;\n",
       "    }\n",
       "\n",
       "    .dataframe tbody tr th {\n",
       "        vertical-align: top;\n",
       "    }\n",
       "\n",
       "    .dataframe thead th {\n",
       "        text-align: right;\n",
       "    }\n",
       "</style>\n",
       "<table border=\"1\" class=\"dataframe\">\n",
       "  <thead>\n",
       "    <tr style=\"text-align: right;\">\n",
       "      <th></th>\n",
       "      <th>Name</th>\n",
       "      <th>Major</th>\n",
       "      <th>School Year</th>\n",
       "      <th>Type</th>\n",
       "      <th>Computer</th>\n",
       "      <th>Straw Holes</th>\n",
       "      <th>Has Dogs</th>\n",
       "      <th>Has Cats</th>\n",
       "      <th>Has Fish</th>\n",
       "      <th>Has Chickens</th>\n",
       "      <th>...</th>\n",
       "      <th>Has Twitch</th>\n",
       "      <th>Programmed before?</th>\n",
       "      <th>Python Background</th>\n",
       "      <th>Statistics Courses</th>\n",
       "      <th>Hours Studying</th>\n",
       "      <th>Siblings</th>\n",
       "      <th>Hours of Sleep</th>\n",
       "      <th>Shoes Owned</th>\n",
       "      <th>People Texted Yesterday</th>\n",
       "      <th>Personality</th>\n",
       "    </tr>\n",
       "  </thead>\n",
       "  <tbody>\n",
       "    <tr>\n",
       "      <td>0</td>\n",
       "      <td>Wade</td>\n",
       "      <td>Computer Science</td>\n",
       "      <td>Other</td>\n",
       "      <td>Android</td>\n",
       "      <td>Windows-based computer</td>\n",
       "      <td>2.0</td>\n",
       "      <td>0</td>\n",
       "      <td>1</td>\n",
       "      <td>0</td>\n",
       "      <td>0</td>\n",
       "      <td>...</td>\n",
       "      <td>0</td>\n",
       "      <td>Yes</td>\n",
       "      <td>Significant -- I am a wizard when it comes to ...</td>\n",
       "      <td>2</td>\n",
       "      <td>3.0</td>\n",
       "      <td>2.0</td>\n",
       "      <td>8.0</td>\n",
       "      <td>4.0</td>\n",
       "      <td>2.0</td>\n",
       "      <td>Introvert</td>\n",
       "    </tr>\n",
       "    <tr>\n",
       "      <td>1</td>\n",
       "      <td>Karle</td>\n",
       "      <td>Statistics</td>\n",
       "      <td>Other</td>\n",
       "      <td>iPhone</td>\n",
       "      <td>Mac OS X-based computer</td>\n",
       "      <td>1.0</td>\n",
       "      <td>0</td>\n",
       "      <td>0</td>\n",
       "      <td>0</td>\n",
       "      <td>0</td>\n",
       "      <td>...</td>\n",
       "      <td>0</td>\n",
       "      <td>Yes</td>\n",
       "      <td>Some Python -- I have had one class or written...</td>\n",
       "      <td>20</td>\n",
       "      <td>1.0</td>\n",
       "      <td>2.0</td>\n",
       "      <td>7.0</td>\n",
       "      <td>20.0</td>\n",
       "      <td>24.0</td>\n",
       "      <td>Extrovert</td>\n",
       "    </tr>\n",
       "    <tr>\n",
       "      <td>2</td>\n",
       "      <td>noor</td>\n",
       "      <td>global studies/statistics</td>\n",
       "      <td>Sophomore</td>\n",
       "      <td>iPhone</td>\n",
       "      <td>Mac OS X-based computer</td>\n",
       "      <td>1.0</td>\n",
       "      <td>0</td>\n",
       "      <td>0</td>\n",
       "      <td>0</td>\n",
       "      <td>0</td>\n",
       "      <td>...</td>\n",
       "      <td>0</td>\n",
       "      <td>No</td>\n",
       "      <td>No programming background -- is Python Taylor ...</td>\n",
       "      <td>3</td>\n",
       "      <td>3.0</td>\n",
       "      <td>1.0</td>\n",
       "      <td>7.0</td>\n",
       "      <td>20.0</td>\n",
       "      <td>10.0</td>\n",
       "      <td>Introvert</td>\n",
       "    </tr>\n",
       "    <tr>\n",
       "      <td>3</td>\n",
       "      <td>Jonathan</td>\n",
       "      <td>Political Science</td>\n",
       "      <td>Senior</td>\n",
       "      <td>iPhone</td>\n",
       "      <td>Mac OS X-based computer</td>\n",
       "      <td>1.0</td>\n",
       "      <td>1</td>\n",
       "      <td>1</td>\n",
       "      <td>0</td>\n",
       "      <td>0</td>\n",
       "      <td>...</td>\n",
       "      <td>0</td>\n",
       "      <td>Yes</td>\n",
       "      <td>No Python, but I've done some programming in o...</td>\n",
       "      <td>2</td>\n",
       "      <td>4.0</td>\n",
       "      <td>1.0</td>\n",
       "      <td>6.0</td>\n",
       "      <td>10.0</td>\n",
       "      <td>8.0</td>\n",
       "      <td>Introvert</td>\n",
       "    </tr>\n",
       "    <tr>\n",
       "      <td>4</td>\n",
       "      <td>Clare</td>\n",
       "      <td>Statistics</td>\n",
       "      <td>Sophomore</td>\n",
       "      <td>iPhone</td>\n",
       "      <td>Mac OS X-based computer</td>\n",
       "      <td>1.0</td>\n",
       "      <td>1</td>\n",
       "      <td>0</td>\n",
       "      <td>0</td>\n",
       "      <td>0</td>\n",
       "      <td>...</td>\n",
       "      <td>0</td>\n",
       "      <td>Yes</td>\n",
       "      <td>Some Python -- I have had one class or written...</td>\n",
       "      <td>1</td>\n",
       "      <td>4.0</td>\n",
       "      <td>0.0</td>\n",
       "      <td>8.0</td>\n",
       "      <td>20.0</td>\n",
       "      <td>30.0</td>\n",
       "      <td>Ambivert</td>\n",
       "    </tr>\n",
       "    <tr>\n",
       "      <td>...</td>\n",
       "      <td>...</td>\n",
       "      <td>...</td>\n",
       "      <td>...</td>\n",
       "      <td>...</td>\n",
       "      <td>...</td>\n",
       "      <td>...</td>\n",
       "      <td>...</td>\n",
       "      <td>...</td>\n",
       "      <td>...</td>\n",
       "      <td>...</td>\n",
       "      <td>...</td>\n",
       "      <td>...</td>\n",
       "      <td>...</td>\n",
       "      <td>...</td>\n",
       "      <td>...</td>\n",
       "      <td>...</td>\n",
       "      <td>...</td>\n",
       "      <td>...</td>\n",
       "      <td>...</td>\n",
       "      <td>...</td>\n",
       "      <td>...</td>\n",
       "    </tr>\n",
       "    <tr>\n",
       "      <td>161</td>\n",
       "      <td>Stephanie</td>\n",
       "      <td>Political Science</td>\n",
       "      <td>Junior</td>\n",
       "      <td>iPhone</td>\n",
       "      <td>Mac OS X-based computer</td>\n",
       "      <td>NaN</td>\n",
       "      <td>1</td>\n",
       "      <td>0</td>\n",
       "      <td>0</td>\n",
       "      <td>0</td>\n",
       "      <td>...</td>\n",
       "      <td>0</td>\n",
       "      <td>No</td>\n",
       "      <td>No programming background -- is Python Taylor ...</td>\n",
       "      <td>1</td>\n",
       "      <td>2.0</td>\n",
       "      <td>9.0</td>\n",
       "      <td>7.0</td>\n",
       "      <td>30.0</td>\n",
       "      <td>12.0</td>\n",
       "      <td>Extrovert</td>\n",
       "    </tr>\n",
       "    <tr>\n",
       "      <td>162</td>\n",
       "      <td>Cindy</td>\n",
       "      <td>biomedical engineering</td>\n",
       "      <td>Senior</td>\n",
       "      <td>Android</td>\n",
       "      <td>Windows-based computer</td>\n",
       "      <td>1.0</td>\n",
       "      <td>1</td>\n",
       "      <td>0</td>\n",
       "      <td>0</td>\n",
       "      <td>0</td>\n",
       "      <td>...</td>\n",
       "      <td>0</td>\n",
       "      <td>No</td>\n",
       "      <td>No Python, but I've done some programming in o...</td>\n",
       "      <td>1</td>\n",
       "      <td>2.0</td>\n",
       "      <td>1.0</td>\n",
       "      <td>8.0</td>\n",
       "      <td>3.0</td>\n",
       "      <td>8.0</td>\n",
       "      <td>Ambivert</td>\n",
       "    </tr>\n",
       "    <tr>\n",
       "      <td>163</td>\n",
       "      <td>Talal</td>\n",
       "      <td>Information sciences</td>\n",
       "      <td>Sophomore</td>\n",
       "      <td>iPhone</td>\n",
       "      <td>Windows-based computer</td>\n",
       "      <td>1.0</td>\n",
       "      <td>0</td>\n",
       "      <td>1</td>\n",
       "      <td>0</td>\n",
       "      <td>0</td>\n",
       "      <td>...</td>\n",
       "      <td>0</td>\n",
       "      <td>Yes</td>\n",
       "      <td>No Python, but I've done some programming in o...</td>\n",
       "      <td>0</td>\n",
       "      <td>3.0</td>\n",
       "      <td>2.0</td>\n",
       "      <td>8.0</td>\n",
       "      <td>12.0</td>\n",
       "      <td>25.0</td>\n",
       "      <td>Ambivert</td>\n",
       "    </tr>\n",
       "    <tr>\n",
       "      <td>164</td>\n",
       "      <td>John</td>\n",
       "      <td>Statistics or Business</td>\n",
       "      <td>Freshman</td>\n",
       "      <td>iPhone</td>\n",
       "      <td>Windows-based computer</td>\n",
       "      <td>1.0</td>\n",
       "      <td>1</td>\n",
       "      <td>0</td>\n",
       "      <td>0</td>\n",
       "      <td>0</td>\n",
       "      <td>...</td>\n",
       "      <td>1</td>\n",
       "      <td>No</td>\n",
       "      <td>No programming background -- is Python Taylor ...</td>\n",
       "      <td>1</td>\n",
       "      <td>1.0</td>\n",
       "      <td>1.0</td>\n",
       "      <td>7.0</td>\n",
       "      <td>12.0</td>\n",
       "      <td>60.0</td>\n",
       "      <td>Introvert</td>\n",
       "    </tr>\n",
       "    <tr>\n",
       "      <td>165</td>\n",
       "      <td>Anisha</td>\n",
       "      <td>Mcb</td>\n",
       "      <td>Junior</td>\n",
       "      <td>iPhone</td>\n",
       "      <td>Mac OS X-based computer</td>\n",
       "      <td>1.0</td>\n",
       "      <td>0</td>\n",
       "      <td>0</td>\n",
       "      <td>0</td>\n",
       "      <td>0</td>\n",
       "      <td>...</td>\n",
       "      <td>0</td>\n",
       "      <td>Yes</td>\n",
       "      <td>Some Python -- I have had one class or written...</td>\n",
       "      <td>1</td>\n",
       "      <td>4.0</td>\n",
       "      <td>1.0</td>\n",
       "      <td>7.0</td>\n",
       "      <td>6.0</td>\n",
       "      <td>15.0</td>\n",
       "      <td>Introvert</td>\n",
       "    </tr>\n",
       "  </tbody>\n",
       "</table>\n",
       "<p>166 rows × 31 columns</p>\n",
       "</div>"
      ],
      "text/plain": [
       "          Name                      Major School Year     Type  \\\n",
       "0         Wade           Computer Science       Other  Android   \n",
       "1        Karle                 Statistics       Other   iPhone   \n",
       "2         noor  global studies/statistics   Sophomore   iPhone   \n",
       "3     Jonathan          Political Science      Senior   iPhone   \n",
       "4        Clare                 Statistics   Sophomore   iPhone   \n",
       "..         ...                        ...         ...      ...   \n",
       "161  Stephanie          Political Science      Junior   iPhone   \n",
       "162      Cindy     biomedical engineering      Senior  Android   \n",
       "163      Talal       Information sciences   Sophomore   iPhone   \n",
       "164       John     Statistics or Business    Freshman   iPhone   \n",
       "165     Anisha                        Mcb      Junior   iPhone   \n",
       "\n",
       "                    Computer  Straw Holes  Has Dogs  Has Cats  Has Fish  \\\n",
       "0     Windows-based computer          2.0         0         1         0   \n",
       "1    Mac OS X-based computer          1.0         0         0         0   \n",
       "2    Mac OS X-based computer          1.0         0         0         0   \n",
       "3    Mac OS X-based computer          1.0         1         1         0   \n",
       "4    Mac OS X-based computer          1.0         1         0         0   \n",
       "..                       ...          ...       ...       ...       ...   \n",
       "161  Mac OS X-based computer          NaN         1         0         0   \n",
       "162   Windows-based computer          1.0         1         0         0   \n",
       "163   Windows-based computer          1.0         0         1         0   \n",
       "164   Windows-based computer          1.0         1         0         0   \n",
       "165  Mac OS X-based computer          1.0         0         0         0   \n",
       "\n",
       "     Has Chickens  ...  Has Twitch  Programmed before?  \\\n",
       "0               0  ...           0                 Yes   \n",
       "1               0  ...           0                 Yes   \n",
       "2               0  ...           0                  No   \n",
       "3               0  ...           0                 Yes   \n",
       "4               0  ...           0                 Yes   \n",
       "..            ...  ...         ...                 ...   \n",
       "161             0  ...           0                  No   \n",
       "162             0  ...           0                  No   \n",
       "163             0  ...           0                 Yes   \n",
       "164             0  ...           1                  No   \n",
       "165             0  ...           0                 Yes   \n",
       "\n",
       "                                     Python Background  Statistics Courses  \\\n",
       "0    Significant -- I am a wizard when it comes to ...                   2   \n",
       "1    Some Python -- I have had one class or written...                  20   \n",
       "2    No programming background -- is Python Taylor ...                   3   \n",
       "3    No Python, but I've done some programming in o...                   2   \n",
       "4    Some Python -- I have had one class or written...                   1   \n",
       "..                                                 ...                 ...   \n",
       "161  No programming background -- is Python Taylor ...                   1   \n",
       "162  No Python, but I've done some programming in o...                   1   \n",
       "163  No Python, but I've done some programming in o...                   0   \n",
       "164  No programming background -- is Python Taylor ...                   1   \n",
       "165  Some Python -- I have had one class or written...                   1   \n",
       "\n",
       "    Hours Studying  Siblings  Hours of Sleep  Shoes Owned  \\\n",
       "0              3.0       2.0             8.0          4.0   \n",
       "1              1.0       2.0             7.0         20.0   \n",
       "2              3.0       1.0             7.0         20.0   \n",
       "3              4.0       1.0             6.0         10.0   \n",
       "4              4.0       0.0             8.0         20.0   \n",
       "..             ...       ...             ...          ...   \n",
       "161            2.0       9.0             7.0         30.0   \n",
       "162            2.0       1.0             8.0          3.0   \n",
       "163            3.0       2.0             8.0         12.0   \n",
       "164            1.0       1.0             7.0         12.0   \n",
       "165            4.0       1.0             7.0          6.0   \n",
       "\n",
       "     People Texted Yesterday  Personality  \n",
       "0                        2.0    Introvert  \n",
       "1                       24.0    Extrovert  \n",
       "2                       10.0    Introvert  \n",
       "3                        8.0    Introvert  \n",
       "4                       30.0     Ambivert  \n",
       "..                       ...          ...  \n",
       "161                     12.0    Extrovert  \n",
       "162                      8.0     Ambivert  \n",
       "163                     25.0     Ambivert  \n",
       "164                     60.0    Introvert  \n",
       "165                     15.0    Introvert  \n",
       "\n",
       "[166 rows x 31 columns]"
      ]
     },
     "execution_count": 1,
     "metadata": {},
     "output_type": "execute_result"
    }
   ],
   "source": [
    "# Import the libraries\n",
    "import pandas as pd\n",
    "import random\n",
    "from scipy.stats import norm\n",
    "from statsmodels.stats.weightstats import ztest\n",
    "\n",
    "\n",
    "\n",
    "## Import your data set\n",
    "df = pd.read_csv(\"hello.csv\")\n",
    "df"
   ]
  },
  {
   "cell_type": "markdown",
   "metadata": {
    "deletable": false,
    "editable": false,
    "nbgrader": {
     "cell_type": "markdown",
     "checksum": "ac0b177074733266e81020aef08713e3",
     "grade": false,
     "grade_id": "cell-4d373d1867848202",
     "locked": true,
     "schema_version": 3,
     "solution": false
    }
   },
   "source": [
    "## Puzzle 1: Sleep Among STAT 107 Students\n",
    "\n",
    "### Part 1: Null and Alternative Hypothesis\n",
    "In class, we learned that the first step when doing any hypothesis test is to state the **Null Hypothesis** and **Alternative Hypothesis**. \n",
    "\n",
    "**Null Hypothesis** := The null hypothesis says that any difference between our sample and the population is small and due to chance.\n",
    "\n",
    "**Alternative Hypothesis** := The alternative hypothesis says that the differences we observe are not just due to chance. \n",
    "\n",
    "_Warning!!!_ Remember that when you are stating your hypotheses, they always include the **population parameters** such as $\\mu$ not **sample parameters** $\\bar{X}$. \n",
    "\n",
    "Using the Day 1 dataset and the Gallup poll, state your 2 hypotheses:"
   ]
  },
  {
   "cell_type": "markdown",
   "metadata": {
    "deletable": false,
    "editable": false,
    "nbgrader": {
     "cell_type": "markdown",
     "checksum": "1674a14d9c646e79502f3d467d2fa117",
     "grade": false,
     "grade_id": "cell-0d923f06aa55df69",
     "locked": true,
     "schema_version": 3,
     "solution": false
    }
   },
   "source": [
    "### Null Hypothesis\n",
    "\n",
    "$H_0$ := *EDIT THIS to define the null hypothesis*\n",
    "\n",
    "\n",
    "### Alternative Hypothesis\n",
    "\n",
    "$H_a$ := *EDIT THIS to define the alternative hypothesis*\n"
   ]
  },
  {
   "cell_type": "markdown",
   "metadata": {},
   "source": [
    "^^Cant edit that cell so...\n",
    "\n",
    "$H_0$: $\\mu$ = 6.8 Hours of Sleep\n",
    "\n",
    "$H_a$: $\\mu$ != 6.8 Hours of Sleep"
   ]
  },
  {
   "cell_type": "markdown",
   "metadata": {
    "deletable": false,
    "editable": false,
    "nbgrader": {
     "cell_type": "markdown",
     "checksum": "e53da6261cab38fd08f3f400850072c1",
     "grade": false,
     "grade_id": "cell-843b7544c7e3a850",
     "locked": true,
     "schema_version": 3,
     "solution": false
    }
   },
   "source": [
    "### Part 2: P-Values:\n",
    "In lecture, Karle and Wade discussed what a **p-value** is.  We can use it to decide which hypothesis is supported by our data.\n",
    "\n",
    "Here, it will tell us the probability that we will observe the difference we observed between our sample data and the Gallup data, given that the true average hours of sleep is really 6.8 hours, as reported by Gallup.\n",
    "\n",
    "Calculate the **p-value** in the following cell:"
   ]
  },
  {
   "cell_type": "code",
   "execution_count": 2,
   "metadata": {},
   "outputs": [
    {
     "data": {
      "text/plain": [
       "12.884098726725126"
      ]
     },
     "execution_count": 2,
     "metadata": {},
     "output_type": "execute_result"
    }
   ],
   "source": [
    "len(df) ** .5"
   ]
  },
  {
   "cell_type": "code",
   "execution_count": 3,
   "metadata": {
    "deletable": false,
    "nbgrader": {
     "cell_type": "code",
     "checksum": "2e833db6c07f1c68897c2f9b03bf9864",
     "grade": false,
     "grade_id": "cell-dc78f2d3d7118a28",
     "locked": false,
     "schema_version": 3,
     "solution": true
    }
   },
   "outputs": [
    {
     "data": {
      "text/plain": [
       "0.00024239325252550792"
      ]
     },
     "execution_count": 3,
     "metadata": {},
     "output_type": "execute_result"
    }
   ],
   "source": [
    "# find first your z value\n",
    "z_test = ((df[\"Hours of Sleep\"].mean()) - 6.8) / (df[\"Hours of Sleep\"].std() / (len(df) ** .5)) \n",
    "\n",
    "# find your p value\n",
    "p_value = (1 - norm.cdf(z_test)) * 2\n",
    "p_value\n",
    "#0.0002424"
   ]
  },
  {
   "cell_type": "code",
   "execution_count": 4,
   "metadata": {
    "deletable": false,
    "editable": false,
    "nbgrader": {
     "cell_type": "code",
     "checksum": "be24ba905a2db4a68829300442a7394b",
     "grade": true,
     "grade_id": "cell-1a8a95387b8f9d9f",
     "locked": true,
     "points": 1,
     "schema_version": 3,
     "solution": false
    }
   },
   "outputs": [
    {
     "name": "stdout",
     "output_type": "stream",
     "text": [
      "🎉 All tests passed! 🎉\n",
      "\n"
     ]
    }
   ],
   "source": [
    "# == TEST CASES for Puzzle 1 ==\n",
    "# - This read-only cell contains test cases for your previous cell(s).\n",
    "# - If this cell runs without any errors in the output, you PASSED all test cases!\n",
    "# - If this cell results errors, check you previous cell, make changes, and RE-RUN your code and then this cell.\n",
    "assert((z_test- 3.590265738)< 0.08), \"You z statistics does not seem correct. Make sure you pick the same formula\"\n",
    "assert((p_value - 0.000001 < 0.0013) & (0.0002 < (p_value - 0.000001))), \"You p-value statistics does not seem correct.\"\n",
    "\n",
    "\n",
    "\n",
    "## == SUCCESS MESSAGE ==\n",
    "# You will only see this message (with the emoji showing) if you passed all test cases:\n",
    "tada = \"\\N{PARTY POPPER}\"\n",
    "print(f\"{tada} All tests passed! {tada}\")\n",
    "print()"
   ]
  },
  {
   "cell_type": "markdown",
   "metadata": {
    "deletable": false,
    "editable": false,
    "nbgrader": {
     "cell_type": "markdown",
     "checksum": "43b4ac1750d42ebe7f5fa5c3c802ec6b",
     "grade": false,
     "grade_id": "cell-2ad0424311f9b554",
     "locked": true,
     "schema_version": 3,
     "solution": false
    }
   },
   "source": [
    "### Part 3: Connect the p value result with your original hypotheses :\n",
    "\n",
    "We know what the **p-value** is now! But as a data scientist, it's important to explain your results in a way that anyone (even someone who has no background in statistics) can understand. If we just said \"Here is the p-value\", they may be confused. We need to be more specific about our conclusion. \n",
    "\n",
    "In the following cell, delete the statements that you do not believe are true and keep the one you is correct.\n"
   ]
  },
  {
   "cell_type": "code",
   "execution_count": 5,
   "metadata": {
    "deletable": false,
    "nbgrader": {
     "cell_type": "code",
     "checksum": "f7a0539990dd5596879342a3a62c7130",
     "grade": false,
     "grade_id": "cell-0f84432fe81139e8",
     "locked": false,
     "schema_version": 3,
     "solution": true
    }
   },
   "outputs": [],
   "source": [
    "# Remove the of the following lines to leave only the correct answer:\n",
    "conclusion = \"There is enough evidence to reject the null hypothesis. Thus, DO reject the Null\"\n",
    "\n"
   ]
  },
  {
   "cell_type": "code",
   "execution_count": 6,
   "metadata": {
    "deletable": false,
    "editable": false,
    "nbgrader": {
     "cell_type": "code",
     "checksum": "d0513dda8be9c7123d90618cd7d69860",
     "grade": true,
     "grade_id": "cell-119c28992fed3d21",
     "locked": true,
     "points": 1,
     "schema_version": 3,
     "solution": false
    }
   },
   "outputs": [
    {
     "name": "stdout",
     "output_type": "stream",
     "text": [
      "🎉 All tests passed! 🎉\n"
     ]
    }
   ],
   "source": [
    "## == TEST CASES for Puzzle 1 ==\n",
    "# - This read-only cell contains test cases for your previous cell(s).\n",
    "# - If this cell runs without any errors in the output, you PASSED all test cases!\n",
    "# - If this cell results errors, check you previous cell, make changes, and RE-RUN your code and then this cell.\n",
    "assert(len(conclusion) == 80), \"Your conclusion does not seem correct. Think about more!\"\n",
    "\n",
    "## == SUCCESS MESSAGE ==\n",
    "# You will only see this message (with the emoji showing) if you passed all test cases:\n",
    "tada = \"\\N{PARTY POPPER}\"\n",
    "print(f\"{tada} All tests passed! {tada}\")"
   ]
  },
  {
   "cell_type": "markdown",
   "metadata": {},
   "source": [
    "## Puzzle 2: Who loves sleep more?\n",
    "\n",
    "We are curious if there is a significant difference in ideal hours of sleep between introverts and ambiverts in college. We are specifically interested in whether introverts sleep **less than** ambiverts.\n",
    "\n",
    "We can investiage this using our Day 1 Dataset as well!  Here, assume that the Day 1 Dataset is a random sample taken from all college students.\n",
    "\n",
    "Do a hypothesis test to satisfy our curiosity! As awlays, first you need to state your hypotheses."
   ]
  },
  {
   "cell_type": "markdown",
   "metadata": {},
   "source": [
    "### Part 1: Null and Alternative Hypothesis\n",
    "\n",
    "### Null Hypothesis\n",
    "\n",
    "$H_0$ : $\\mu_A$ = $\\mu_I$\n",
    "\n",
    "\n",
    "\n",
    "### Alternative Hypothesis\n",
    "\n",
    "$H_a$: $\\mu_I$ < $\\mu_A$"
   ]
  },
  {
   "cell_type": "markdown",
   "metadata": {},
   "source": [
    "### Part 2: P-value:\n",
    "\n",
    "Calculate your test statistic and find the p-value. Remember, we are comparing two samples now- think about how this is different from Puzzle 1 and what type of z-test to do!\n",
    "\n",
    "Find the **p-value** in the following cell: "
   ]
  },
  {
   "cell_type": "code",
   "execution_count": 7,
   "metadata": {
    "deletable": false,
    "nbgrader": {
     "cell_type": "code",
     "checksum": "62ecb5e43abe90933f4f58bec0635f74",
     "grade": false,
     "grade_id": "cell-d45b5ab2db34da59",
     "locked": false,
     "schema_version": 3,
     "solution": true
    }
   },
   "outputs": [],
   "source": [
    "## Make sure your mean_Introvert; sd_Ambivert; pooled_sd; p_value names as below for the test cases\n",
    "df_intro = df[df[\"Personality\"] == \"Introvert\"]\n",
    "df_ambi = df[df[\"Personality\"] == \"Ambivert\"]\n",
    "\n",
    "mean_Introvert = df_intro[\"Hours of Sleep\"].mean()\n",
    "sd_Introvert = df_intro[\"Hours of Sleep\"].std()\n",
    "\n",
    "mean_Ambivert = df_ambi[\"Hours of Sleep\"].mean()\n",
    "sd_Ambivert = df_ambi[\"Hours of Sleep\"].std()\n",
    "\n",
    "#SD / ( len(x)**0.5 )\n",
    "se_difference = (sd_Introvert**2/len(df_intro) + sd_Ambivert**2/len(df_ambi)) ** .5\n",
    "z = (mean_Introvert - mean_Ambivert)/se_difference \n",
    "p_value = norm.cdf(z)\n"
   ]
  },
  {
   "cell_type": "code",
   "execution_count": 8,
   "metadata": {
    "deletable": false,
    "editable": false,
    "nbgrader": {
     "cell_type": "code",
     "checksum": "ddd676c3d40021d298df2bae22200923",
     "grade": true,
     "grade_id": "cell-7bd5b9e9b0bf72b8",
     "locked": true,
     "points": 1,
     "schema_version": 3,
     "solution": false
    }
   },
   "outputs": [
    {
     "name": "stdout",
     "output_type": "stream",
     "text": [
      "🎉 All tests passed! 🎉\n"
     ]
    }
   ],
   "source": [
    "## == TEST CASES for Puzzle 1 ==\n",
    "# - This read-only cell contains test cases for your previous cell(s).\n",
    "# - If this cell runs without any errors in the output, you PASSED all test cases!\n",
    "# - If this cell results errors, check you previous cell, make changes, and RE-RUN your code and then this cell.\n",
    "assert(mean_Introvert - 0.00001 < 6.9 ), \"Your mean of Introvert does not look like correct. Make sure you correctly subset your data\"\n",
    "assert(sd_Ambivert- 0.00001 <0.90 ), \"Your standard error of Ambivert does not look like correct. Make sure you correctly subset your data\"\n",
    "assert(se_difference - 0.0001 < 0.2 ), \"Your standard error for the difference does not look like correct.\"\n",
    "assert(p_value - 0.0001 < 0.03 ), \"Your p-value does not look like correct. Make sure you are doing one sided test.\"\n",
    "\n",
    "\n",
    "## == SUCCESS MESSAGE ==\n",
    "# You will only see this message (with the emoji showing) if you passed all test cases:\n",
    "tada = \"\\N{PARTY POPPER}\"\n",
    "print(f\"{tada} All tests passed! {tada}\")"
   ]
  },
  {
   "cell_type": "markdown",
   "metadata": {},
   "source": [
    "### Part 3: Make a conclusion based on your p-value.\n",
    "\n",
    "We know what the **p-value** is now. So in the following cell delete the statements that you do not believe are true and keep the one you think is true.  Use 1% as your cutoff instead of 5%."
   ]
  },
  {
   "cell_type": "code",
   "execution_count": 9,
   "metadata": {
    "deletable": false,
    "nbgrader": {
     "cell_type": "code",
     "checksum": "720b1545dcc35a10d6fe9911412fa78d",
     "grade": false,
     "grade_id": "cell-5f2236ee09b8ae71",
     "locked": false,
     "schema_version": 3,
     "solution": true
    }
   },
   "outputs": [],
   "source": [
    "# Remove the of the following lines to leave only the correct answer:\n",
    "# Remove the of the following lines to leave only the correct answer:\n",
    "conclusion = \"There is not enough evidence to reject the null hypothesis. Thus, DO NOT reject the Null\"\n",
    "\n"
   ]
  },
  {
   "cell_type": "code",
   "execution_count": 10,
   "metadata": {
    "deletable": false,
    "editable": false,
    "nbgrader": {
     "cell_type": "code",
     "checksum": "dc1646bbb7c2144ba0d9aa6ee35f6b12",
     "grade": true,
     "grade_id": "cell-5ba76e5cb1428aa4",
     "locked": true,
     "points": 1,
     "schema_version": 3,
     "solution": false
    }
   },
   "outputs": [
    {
     "name": "stdout",
     "output_type": "stream",
     "text": [
      "🎉 All tests passed! 🎉\n",
      "\n"
     ]
    }
   ],
   "source": [
    "## == TEST CASES for Puzzle 1 ==\n",
    "# - This read-only cell contains test cases for your previous cell(s).\n",
    "# - If this cell runs without any errors in the output, you PASSED all test cases!\n",
    "# - If this cell results errors, check you previous cell, make changes, and RE-RUN your code and then this cell.\n",
    "assert(len(conclusion) == 88), \"Your conclusion does not seem correct. Think about more!\"\n",
    "\n",
    "## == SUCCESS MESSAGE ==\n",
    "# You will only see this message (with the emoji showing) if you passed all test cases:\n",
    "tada = \"\\N{PARTY POPPER}\"\n",
    "print(f\"{tada} All tests passed! {tada}\")\n",
    "print()\n"
   ]
  },
  {
   "cell_type": "markdown",
   "metadata": {},
   "source": [
    "## Puzzle 3: Halloween!\n",
    "\n",
    "![pumpkins.jpeg](pumpkins.jpeg)\n",
    "\n",
    "Karle heard that 20% of college students dress up in the same costume for two consecutive Halloweens. However Karle thinks that this percent is higher for UIUC students!  She thinks it is **40%** and wants to test this hypothesis. She decides to take 100 differents samples of 60 students this Hallowen.\n",
    "\n",
    "We can simulate this in Python. \n",
    "\n",
    "Can you help her simulate this and test her idea by finding an approximate p-value. As always, start with the null and alternative hypotheses!\n",
    "\n",
    "Here are the steps that can help you: \n",
    "\n",
    "1. Consider a very large sample that can simulate an example population -- use `random.randint(...)`.\n",
    "\n",
    "2. Randomly sample 60 students 1000 times. For each of these 1000 samples, find the percentage that plan to wear the same costume from last halloween. \n",
    "\n",
    "3. You have 1000 different samples and sample percentages for all of them. Now think about how you can the p-value.  Hint: The p-value is the probability of getting 40% or more people wearing the same costume given the true percentage is 20%.\n"
   ]
  },
  {
   "cell_type": "code",
   "execution_count": 11,
   "metadata": {},
   "outputs": [],
   "source": [
    "import numpy as np"
   ]
  },
  {
   "cell_type": "code",
   "execution_count": 56,
   "metadata": {},
   "outputs": [],
   "source": [
    "def same_costume(n):\n",
    "    data = []\n",
    "    for i in range(n):\n",
    "        d = {\"costume\":  np.random.choice(2, replace = True, p=[.8,.2]) }\n",
    "        data.append(d)\n",
    "    \n",
    "    temp_df = pd.DataFrame(data)\n",
    "    \n",
    "    return len(temp_df[temp_df[\"costume\"] == 1]) / len(temp_df)\n",
    "    \n",
    "        "
   ]
  },
  {
   "cell_type": "code",
   "execution_count": 67,
   "metadata": {},
   "outputs": [
    {
     "data": {
      "text/plain": [
       "0.17"
      ]
     },
     "execution_count": 67,
     "metadata": {},
     "output_type": "execute_result"
    }
   ],
   "source": [
    "same_costume(100)"
   ]
  },
  {
   "cell_type": "code",
   "execution_count": 115,
   "metadata": {
    "deletable": false,
    "nbgrader": {
     "cell_type": "code",
     "checksum": "9dfadf1a5dcfc9de5df0a195c3398706",
     "grade": false,
     "grade_id": "cell-d3610d77d94bdcbf",
     "locked": false,
     "schema_version": 3,
     "solution": true
    }
   },
   "outputs": [],
   "source": [
    "## Create the DataFrame of 100 samples:\n",
    "data = []\n",
    "\n",
    "for i in range(1000):\n",
    "    data.append(same_costume(60))\n",
    "    \n",
    "\n",
    "    \n",
    "df = pd.DataFrame(data)\n",
    "\n",
    "df_4 = df[df >= .4]\n",
    "\n",
    "\n",
    "## make sure your answer is the p-value\n",
    "p_value = df_4.count()[0] / len(df)\n"
   ]
  },
  {
   "cell_type": "code",
   "execution_count": null,
   "metadata": {},
   "outputs": [],
   "source": []
  },
  {
   "cell_type": "code",
   "execution_count": 116,
   "metadata": {
    "deletable": false,
    "editable": false,
    "nbgrader": {
     "cell_type": "code",
     "checksum": "6075ec24594e827a206d811c0cc94bb2",
     "grade": true,
     "grade_id": "cell-c97db47b822b8ecc",
     "locked": true,
     "points": 1,
     "schema_version": 3,
     "solution": false
    }
   },
   "outputs": [
    {
     "name": "stdout",
     "output_type": "stream",
     "text": [
      "🎉 All tests passed! 🎉\n",
      "\n"
     ]
    }
   ],
   "source": [
    "## == TEST CASES for Puzzle 1 ==\n",
    "# - This read-only cell contains test cases for your previous cell(s).\n",
    "# - If this cell runs without any errors in the output, you PASSED all test cases!\n",
    "# - If this cell results errors, check you previous cell, make changes, and RE-RUN your code and then this cell.\n",
    "assert(len(df) >= 1000), \"You must heave at least 1000 samples\"\n",
    "assert(p_value <= 0.02), \"Your p value does not seem correct!\"\n",
    "\n",
    "\n",
    "## == SUCCESS MESSAGE ==\n",
    "# You will only see this message (with the emoji showing) if you passed all test cases:\n",
    "tada = \"\\N{PARTY POPPER}\"\n",
    "print(f\"{tada} All tests passed! {tada}\")\n",
    "print()"
   ]
  },
  {
   "cell_type": "markdown",
   "metadata": {},
   "source": [
    "## Puzzle 4: GPA Visualization\n",
    "\n",
    "Using Wade's [Grade disparity between sections at UIUC](http://waf.cs.illinois.edu/discovery/grade_disparity_between_sections_at_uiuc/) visualization, find the average grade Wade gave to CS 225 students.\n",
    "\n",
    "You suspect Wade might not be completely honest with his grades, so you randomly survey 107 students who have taken CS 225.  The final grades the students gave you is out of 1000 points.  You have recorded the 107 student grades in `cs225-final-grades.csv`.  (*These are really 107 randomly chosen grades from CS 225 from Fall 2018.*)\n",
    "\n",
    "You find that the translation between points and grades is as follows:\n",
    "\n",
    "| Points | Grade | GPA |\n",
    "| ------ | ----- | --- |\n",
    "| 1070 - 1100 | A+ | 4.0 |\n",
    "|  930 - 1070 | A  | 4.0 |\n",
    "|  900 - 930 | A-  | 3.67 |\n",
    "|  870 - 900 | B+  | 3.33 |\n",
    "|  830 - 870 | B   | 3.0 |\n",
    "|  800 - 830 | B-  | 2.67 |\n",
    "|  770 - 800 | C+  | 2.33 |\n",
    "|  730 - 770 | C   | 2.0 |\n",
    "|  700 - 730 | C-  | 1.67 |\n",
    "|  670 - 700 | D+  | 1.33 |\n",
    "|  630 - 670 | D   | 1.0 |\n",
    "|  600 - 630 | D-  | 0.67 |\n",
    "|    0 - 600 | F  | 0 |\n",
    "\n",
    "**Hint**: You will need to process `cs225-final-grades.csv` and understand and gather data from the GPA visualization before you will be able to run the test.  Use `pandas` to help you process this data! :)"
   ]
  },
  {
   "cell_type": "code",
   "execution_count": 128,
   "metadata": {},
   "outputs": [
    {
     "data": {
      "text/html": [
       "<div>\n",
       "<style scoped>\n",
       "    .dataframe tbody tr th:only-of-type {\n",
       "        vertical-align: middle;\n",
       "    }\n",
       "\n",
       "    .dataframe tbody tr th {\n",
       "        vertical-align: top;\n",
       "    }\n",
       "\n",
       "    .dataframe thead th {\n",
       "        text-align: right;\n",
       "    }\n",
       "</style>\n",
       "<table border=\"1\" class=\"dataframe\">\n",
       "  <thead>\n",
       "    <tr style=\"text-align: right;\">\n",
       "      <th></th>\n",
       "      <th>CS 225 Final Grade</th>\n",
       "    </tr>\n",
       "  </thead>\n",
       "  <tbody>\n",
       "    <tr>\n",
       "      <td>0</td>\n",
       "      <td>NaN</td>\n",
       "    </tr>\n",
       "    <tr>\n",
       "      <td>1</td>\n",
       "      <td>1068.696078</td>\n",
       "    </tr>\n",
       "    <tr>\n",
       "      <td>2</td>\n",
       "      <td>1040.655631</td>\n",
       "    </tr>\n",
       "    <tr>\n",
       "      <td>3</td>\n",
       "      <td>1047.147059</td>\n",
       "    </tr>\n",
       "    <tr>\n",
       "      <td>4</td>\n",
       "      <td>NaN</td>\n",
       "    </tr>\n",
       "    <tr>\n",
       "      <td>...</td>\n",
       "      <td>...</td>\n",
       "    </tr>\n",
       "    <tr>\n",
       "      <td>102</td>\n",
       "      <td>954.931372</td>\n",
       "    </tr>\n",
       "    <tr>\n",
       "      <td>103</td>\n",
       "      <td>NaN</td>\n",
       "    </tr>\n",
       "    <tr>\n",
       "      <td>104</td>\n",
       "      <td>NaN</td>\n",
       "    </tr>\n",
       "    <tr>\n",
       "      <td>105</td>\n",
       "      <td>NaN</td>\n",
       "    </tr>\n",
       "    <tr>\n",
       "      <td>106</td>\n",
       "      <td>1048.897892</td>\n",
       "    </tr>\n",
       "  </tbody>\n",
       "</table>\n",
       "<p>107 rows × 1 columns</p>\n",
       "</div>"
      ],
      "text/plain": [
       "     CS 225 Final Grade\n",
       "0                   NaN\n",
       "1           1068.696078\n",
       "2           1040.655631\n",
       "3           1047.147059\n",
       "4                   NaN\n",
       "..                  ...\n",
       "102          954.931372\n",
       "103                 NaN\n",
       "104                 NaN\n",
       "105                 NaN\n",
       "106         1048.897892\n",
       "\n",
       "[107 rows x 1 columns]"
      ]
     },
     "execution_count": 128,
     "metadata": {},
     "output_type": "execute_result"
    }
   ],
   "source": [
    "sample_cs225[sample_cs225 > 930]"
   ]
  },
  {
   "cell_type": "code",
   "execution_count": null,
   "metadata": {},
   "outputs": [],
   "source": []
  },
  {
   "cell_type": "code",
   "execution_count": 147,
   "metadata": {
    "deletable": false,
    "nbgrader": {
     "cell_type": "code",
     "checksum": "36fbdefc0f0f60aacbf1e5573b44834e",
     "grade": false,
     "grade_id": "cell-053f4c444b109148",
     "locked": false,
     "schema_version": 3,
     "solution": true
    }
   },
   "outputs": [
    {
     "data": {
      "text/html": [
       "<div>\n",
       "<style scoped>\n",
       "    .dataframe tbody tr th:only-of-type {\n",
       "        vertical-align: middle;\n",
       "    }\n",
       "\n",
       "    .dataframe tbody tr th {\n",
       "        vertical-align: top;\n",
       "    }\n",
       "\n",
       "    .dataframe thead th {\n",
       "        text-align: right;\n",
       "    }\n",
       "</style>\n",
       "<table border=\"1\" class=\"dataframe\">\n",
       "  <thead>\n",
       "    <tr style=\"text-align: right;\">\n",
       "      <th></th>\n",
       "      <th>GPA</th>\n",
       "    </tr>\n",
       "  </thead>\n",
       "  <tbody>\n",
       "    <tr>\n",
       "      <td>0</td>\n",
       "      <td>1.00</td>\n",
       "    </tr>\n",
       "    <tr>\n",
       "      <td>1</td>\n",
       "      <td>4.00</td>\n",
       "    </tr>\n",
       "    <tr>\n",
       "      <td>2</td>\n",
       "      <td>4.00</td>\n",
       "    </tr>\n",
       "    <tr>\n",
       "      <td>3</td>\n",
       "      <td>4.00</td>\n",
       "    </tr>\n",
       "    <tr>\n",
       "      <td>4</td>\n",
       "      <td>2.00</td>\n",
       "    </tr>\n",
       "    <tr>\n",
       "      <td>...</td>\n",
       "      <td>...</td>\n",
       "    </tr>\n",
       "    <tr>\n",
       "      <td>102</td>\n",
       "      <td>4.00</td>\n",
       "    </tr>\n",
       "    <tr>\n",
       "      <td>103</td>\n",
       "      <td>3.33</td>\n",
       "    </tr>\n",
       "    <tr>\n",
       "      <td>104</td>\n",
       "      <td>2.00</td>\n",
       "    </tr>\n",
       "    <tr>\n",
       "      <td>105</td>\n",
       "      <td>0.00</td>\n",
       "    </tr>\n",
       "    <tr>\n",
       "      <td>106</td>\n",
       "      <td>4.00</td>\n",
       "    </tr>\n",
       "  </tbody>\n",
       "</table>\n",
       "<p>107 rows × 1 columns</p>\n",
       "</div>"
      ],
      "text/plain": [
       "      GPA\n",
       "0    1.00\n",
       "1    4.00\n",
       "2    4.00\n",
       "3    4.00\n",
       "4    2.00\n",
       "..    ...\n",
       "102  4.00\n",
       "103  3.33\n",
       "104  2.00\n",
       "105  0.00\n",
       "106  4.00\n",
       "\n",
       "[107 rows x 1 columns]"
      ]
     },
     "execution_count": 147,
     "metadata": {},
     "output_type": "execute_result"
    }
   ],
   "source": [
    "## First read the data cs225-final-grades.csv\n",
    "sample_cs225 = pd.read_csv(\"cs225-final-grades.csv\")\n",
    "\n",
    "\n",
    "data = []\n",
    "\n",
    "for i in sample_cs225[\"CS 225 Final Grade\"]:\n",
    "    d = {}\n",
    "    if i >= 930:\n",
    "        d = { \"GPA\" : 4.0 } \n",
    "    elif i >= 900:\n",
    "        d = { \"GPA\" : 3.67 } \n",
    "    elif i >= 870:\n",
    "        d = { \"GPA\" : 3.33 } \n",
    "    elif i >= 830:\n",
    "        d = { \"GPA\" : 3} \n",
    "    elif i >= 800:\n",
    "        d = { \"GPA\" : 2.67 } \n",
    "    elif i >= 770:\n",
    "        d = { \"GPA\" : 2.33 } \n",
    "    elif i >= 730:\n",
    "        d = { \"GPA\" : 2 } \n",
    "    elif i >= 700:\n",
    "        d = { \"GPA\" : 1.67 } \n",
    "    elif i >= 670:\n",
    "        d = { \"GPA\" : 1.33 } \n",
    "    elif i >= 630:\n",
    "        d = { \"GPA\" : 1 } \n",
    "    elif i >= 600:\n",
    "        d = { \"GPA\" : .67 } \n",
    "    else:\n",
    "        d = { \"GPA\" : 0 } \n",
    "    data.append(d)\n",
    "\n",
    "\n",
    "## Procecess sample_cs225 to convert to GPA format. Make sure conv_sample_cs225 is a DataFrame\n",
    "converted_grades = pd.DataFrame(data)\n",
    "\n",
    "\n",
    "converted_grades"
   ]
  },
  {
   "cell_type": "code",
   "execution_count": 148,
   "metadata": {
    "deletable": false,
    "editable": false,
    "nbgrader": {
     "cell_type": "code",
     "checksum": "8d0f64ff884d604ec7ae177fac700793",
     "grade": true,
     "grade_id": "cell-0544cc08b9b64325",
     "locked": true,
     "points": 1,
     "schema_version": 3,
     "solution": false
    }
   },
   "outputs": [
    {
     "name": "stdout",
     "output_type": "stream",
     "text": [
      "🎉 All tests passed! 🎉\n",
      "\n"
     ]
    }
   ],
   "source": [
    "## == TEST CASES for Puzzle 1 ==\n",
    "# - This read-only cell contains test cases for your previous cell(s).\n",
    "# - If this cell runs without any errors in the output, you PASSED all test cases!\n",
    "# - If this cell results errors, check you previous cell, make changes, and RE-RUN your code and then this cell.\n",
    "assert(len(converted_grades[converted_grades[\"GPA\"] == 3.67]) == 7), \"Your convertion from the total points to GPA does not seem correct.\"\n",
    "assert(len(converted_grades[converted_grades[\"GPA\"] == 0]) == 7), \"Your convertion from the total points to GPA does not seem correct.\"\n",
    "\n",
    "## == SUCCESS MESSAGE ==\n",
    "# You will only see this message (with the emoji showing) if you passed all test cases:\n",
    "tada = \"\\N{PARTY POPPER}\"\n",
    "print(f\"{tada} All tests passed! {tada}\")\n",
    "print()"
   ]
  },
  {
   "cell_type": "markdown",
   "metadata": {},
   "source": [
    "### Part 1: Hypotheses\n",
    "\n",
    "Just like before, start with stating your Null and Alternative Hypotheses!\n",
    "\n",
    "### Null Hypothesis\n",
    "\n",
    "$H_0$ : $\\mu$ = 3.22\n",
    "\n",
    "### Alternative Hypothesis\n",
    "\n",
    "$H_a$ : $\\mu$ != 3.22"
   ]
  },
  {
   "cell_type": "markdown",
   "metadata": {},
   "source": [
    "### Part 2: P-value\n",
    "Calculate the test statistic and find the p-value in the following cell:"
   ]
  },
  {
   "cell_type": "code",
   "execution_count": 151,
   "metadata": {
    "deletable": false,
    "nbgrader": {
     "cell_type": "code",
     "checksum": "02b112731a569cedfd964d181611d4f4",
     "grade": false,
     "grade_id": "cell-26dab0ff60b63979",
     "locked": false,
     "schema_version": 3,
     "solution": true
    }
   },
   "outputs": [],
   "source": [
    "# find first your z value\n",
    "z_test = ((converted_grades[\"GPA\"].mean()) - 3.22) / (converted_grades[\"GPA\"].std() / (len(converted_grades) ** .5))\n",
    "# find your p value\n",
    "p_value = (1 - norm.cdf(z_test)) * 2\n",
    "\n"
   ]
  },
  {
   "cell_type": "code",
   "execution_count": 152,
   "metadata": {
    "deletable": false,
    "editable": false,
    "nbgrader": {
     "cell_type": "code",
     "checksum": "9a536acf993901083ee3f2acaedfe649",
     "grade": true,
     "grade_id": "cell-08a0447915dbc44c",
     "locked": true,
     "points": 1,
     "schema_version": 3,
     "solution": false
    }
   },
   "outputs": [
    {
     "name": "stdout",
     "output_type": "stream",
     "text": [
      "🎉 All tests passed! 🎉\n",
      "\n"
     ]
    }
   ],
   "source": [
    "# == TEST CASES for Puzzle 4 ==\n",
    "# - This read-only cell contains test cases for your previous cell(s).\n",
    "# - If this cell runs without any errors in the output, you PASSED all test cases!\n",
    "# - If this cell results errors, check you previous cell, make changes, and RE-RUN your code and then this cell.\n",
    "assert(round(z_test, 2) == 1.50), \"You z statistics does not seem correct. Make sure you pick the same formula\"\n",
    "assert(round(p_value, 2) == 0.13), \"You p-value statistics does not seem correct.\"\n",
    "\n",
    "\n",
    "\n",
    "## == SUCCESS MESSAGE ==\n",
    "# You will only see this message (with the emoji showing) if you passed all test cases:\n",
    "tada = \"\\N{PARTY POPPER}\"\n",
    "print(f\"{tada} All tests passed! {tada}\")\n",
    "print()"
   ]
  },
  {
   "cell_type": "markdown",
   "metadata": {},
   "source": [
    "## Submit Your Work!\n",
    "\n",
    "You're almost done -- congratulations!\n",
    "\n",
    "You need to do a few more things:\n",
    "\n",
    "1. Save your work.  To do this, create a **notebook checkpoint** by using the menu within the notebook to go **File -> Save and Checkpoint**\n",
    "\n",
    "2. Choose `File` and then `Close and Halt` from this notebook.\n",
    "\n",
    "3. Choose `Quit` on the main notebook webpage.\n",
    "\n",
    "4. Return to your command line and follow the directions on the Data Science Discovery page on how to use git to turn this notebook into the course!"
   ]
  }
 ],
 "metadata": {
  "kernelspec": {
   "display_name": "Python 3",
   "language": "python",
   "name": "python3"
  },
  "language_info": {
   "codemirror_mode": {
    "name": "ipython",
    "version": 3
   },
   "file_extension": ".py",
   "mimetype": "text/x-python",
   "name": "python",
   "nbconvert_exporter": "python",
   "pygments_lexer": "ipython3",
   "version": "3.7.3"
  }
 },
 "nbformat": 4,
 "nbformat_minor": 2
}
