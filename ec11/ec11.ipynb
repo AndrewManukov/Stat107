{
 "cells": [
  {
   "cell_type": "markdown",
   "metadata": {},
   "source": [
    "# EC Notebook for Lecture 11: Bar Graphs vs. Histograms\n",
    "\n",
    "This extra credit Python notebook will let you practice the material you saw in lecture.  Completing all parts of this notebook will earn +1 extra credit point to your grade in STAT 107! :)\n",
    "\n",
    "This notebook is worth +1 if turned in before 11:30am on **Monday, Sept. 23** *(30 minutes before the next STAT 107 lecture)*.  You can feel free to complete it anytime for extra practice."
   ]
  },
  {
   "cell_type": "markdown",
   "metadata": {},
   "source": [
    "## 1. Loading pandas and importing data\n",
    "\n",
    "For this notebook, we will use the \"hello\" dataset -- as we did in lecture 11 -- to plot a few graphs.\n",
    "\n",
    "Using your @illinois.edu address, you can access the \"hello\" dataset here: \n",
    "https://docs.google.com/spreadsheets/d/1LB4E89GoVi5yezEfHhopbI5BMxodSG7VvoznkaAkMAQ/edit#gid=0\n",
    "\n",
    "Always, remember to load your data first."
   ]
  },
  {
   "cell_type": "code",
   "execution_count": 2,
   "metadata": {
    "deletable": false,
    "nbgrader": {
     "cell_type": "code",
     "checksum": "495edb882a58ffd062794ef5c09ff6e5",
     "grade": false,
     "grade_id": "cell-1628b09530950d23",
     "locked": false,
     "schema_version": 3,
     "solution": true,
     "task": false
    }
   },
   "outputs": [],
   "source": [
    "import pandas as pd\n",
    "df = pd.read_csv(\"hello.csv\")"
   ]
  },
  {
   "cell_type": "markdown",
   "metadata": {},
   "source": [
    "### Question 1:\n",
    "\n",
    "Today we will consider non-freshman students. First, find the mean of number of hours a non-freshman student sleeps (hmean_non_freshman). Next, plot the histogram for number of hours of sleep of non-freshman students. \n",
    "\n",
    "(Note that you should expect hmean_non_freshman value to have highest bar (Right?)!)"
   ]
  },
  {
   "cell_type": "code",
   "execution_count": 3,
   "metadata": {
    "deletable": false,
    "nbgrader": {
     "cell_type": "code",
     "checksum": "c1f06eedf30aca392732df144e9e1edf",
     "grade": false,
     "grade_id": "cell-99d959c1fa5c1922",
     "locked": false,
     "schema_version": 3,
     "solution": true,
     "task": false
    }
   },
   "outputs": [
    {
     "name": "stdout",
     "output_type": "stream",
     "text": [
      "7.051204819277109\n"
     ]
    },
    {
     "data": {
      "text/plain": [
       "<matplotlib.axes._subplots.AxesSubplot at 0x1ed7ec463c8>"
      ]
     },
     "execution_count": 3,
     "metadata": {},
     "output_type": "execute_result"
    }
   ],
   "source": [
    "non_freshman = df[df[\"School Year\"] != \"Freshman\"]\n",
    "hmean_non_freshman = df[\"Hours of Sleep\"].mean()\n",
    "print(hmean_non_freshman)\n",
    "#Now, write the code for the plot\n",
    "\n",
    "non_freshman[\"Hours of Sleep\"].hist()\n"
   ]
  },
  {
   "cell_type": "markdown",
   "metadata": {},
   "source": [
    "### Question 2: \n",
    "\n",
    "Next, add 2 to number of hours of sleep of Junior students only. Then, plot a histogram for number of hours of sleep of non-freshman students.\n",
    "\n",
    "\n",
    "(Note that in the class, we added a number to every row and saw that the histogram just shifted towards right. But here we are adding a number to a few rows only.)"
   ]
  },
  {
   "cell_type": "code",
   "execution_count": null,
   "metadata": {},
   "outputs": [],
   "source": []
  },
  {
   "cell_type": "markdown",
   "metadata": {},
   "source": [
    "### Question 2:\n",
    "\n",
    "Suppose we are interested in knowing students from which year watch twitch the most. Create a bar plot for number of students who have youtube. "
   ]
  },
  {
   "cell_type": "code",
   "execution_count": 4,
   "metadata": {
    "deletable": false,
    "nbgrader": {
     "cell_type": "code",
     "checksum": "24b3576900dd4e68d5341828e488eac5",
     "grade": false,
     "grade_id": "cell-0f2b9437c5b3e29a",
     "locked": false,
     "schema_version": 3,
     "solution": true,
     "task": false
    }
   },
   "outputs": [
    {
     "data": {
      "text/plain": [
       "Has YouTube\n",
       "0    AxesSubplot(0.125,0.125;0.775x0.755)\n",
       "1    AxesSubplot(0.125,0.125;0.775x0.755)\n",
       "Name: Has YouTube, dtype: object"
      ]
     },
     "execution_count": 4,
     "metadata": {},
     "output_type": "execute_result"
    },
    {
     "data": {
      "image/png": "[encoded data removed]",
      "text/plain": [
       "<Figure size 432x288 with 1 Axes>"
      ]
     },
     "metadata": {
      "needs_background": "light"
     },
     "output_type": "display_data"
    }
   ],
   "source": [
    "df = df.groupby(\"Has YouTube\")\n",
    "df[\"Has YouTube\"].plot.bar()"
   ]
  },
  {
   "cell_type": "markdown",
   "metadata": {},
   "source": [
    "### Question 3 \n",
    "\n",
    "Note that in the above plot, the bar may be higher just because there are more students in the class from that year. Calculate the fraction of students from each year who have youtube. Try to use the group you just created and functions related to groups which you learned in the class."
   ]
  },
  {
   "cell_type": "code",
   "execution_count": null,
   "metadata": {
    "deletable": false,
    "nbgrader": {
     "cell_type": "code",
     "checksum": "042833710a62c083ac1be0cd4982b24e",
     "grade": false,
     "grade_id": "cell-ea88dcf40cc90ada",
     "locked": false,
     "schema_version": 3,
     "solution": true,
     "task": false
    }
   },
   "outputs": [],
   "source": [
    "freshman_frac = \n",
    "sophomore_frac = ...\n",
    "junior_frac = ...\n",
    "senior_frac = ...\n",
    "other_frac = ...\n",
    "print(freshman_frac)\n",
    "print(sophomore_frac)\n",
    "print(junior_frac)\n",
    "print(senior_frac)\n",
    "print(other_frac)\n",
    "\n",
    "\n"
   ]
  },
  {
   "cell_type": "markdown",
   "metadata": {},
   "source": [
    "(You don't have to answer this. Just think for yourself!):\n",
    "What do you think now, shouldn't we have plotted the fraction to gain a better understanding?"
   ]
  },
  {
   "cell_type": "code",
   "execution_count": null,
   "metadata": {
    "deletable": false,
    "editable": false,
    "nbgrader": {
     "cell_type": "code",
     "checksum": "c309fbc4b4d5f819ce1b88aa9743a2d9",
     "grade": true,
     "grade_id": "cell-357bac434e050bca",
     "locked": true,
     "points": 0,
     "schema_version": 3,
     "solution": false,
     "task": false
    }
   },
   "outputs": [],
   "source": [
    "## == TEST CASES for Puzzle 2 ==\n",
    "# - This read-only cell contains test cases for your previous cell.\n",
    "# - If this cell runs without any error our output, you PASSED all test cases!\n",
    "# - If this cell results in any errors, check you previous cell, make changes, and RE-RUN your code and then this cell.\n",
    "\n",
    "assert(int(hmean_non_freshman) == 7), \"The mean does not appear correct.\"\n",
    "assert(round(freshman_frac,2) == 0.84), \"The freshman_frac does not appear correct .\"\n",
    "assert(round(sophomore_frac,2) == 0.94), \"The sophomore_frac does not appear correct .\"\n",
    "assert(round(junior_frac,2) == 0.84), \"The junior_frac does not appear correct .\"\n",
    "assert(round(senior_frac,2) == 0.89), \"The senior_frac does not appear correct .\"\n",
    "assert(round(other_frac,2) == 0.86), \"The other_frac does not appear correct .\""
   ]
  },
  {
   "cell_type": "markdown",
   "metadata": {},
   "source": [
    "## Submit Your Work!\n",
    "\n",
    "Make sure to **Save and Checkpoint** your notebook, exit Jupyter, and submit your work! :)"
   ]
  },
  {
   "cell_type": "code",
   "execution_count": null,
   "metadata": {},
   "outputs": [],
   "source": []
  }
 ],
 "metadata": {
  "kernelspec": {
   "display_name": "Python 3",
   "language": "python",
   "name": "python3"
  },
  "language_info": {
   "codemirror_mode": {
    "name": "ipython",
    "version": 3
   },
   "file_extension": ".py",
   "mimetype": "text/x-python",
   "name": "python",
   "nbconvert_exporter": "python",
   "pygments_lexer": "ipython3",
   "version": "3.7.3"
  }
 },
 "nbformat": 4,
 "nbformat_minor": 2
}
