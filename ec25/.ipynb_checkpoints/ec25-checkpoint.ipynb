{
 "cells": [
  {
   "cell_type": "markdown",
   "metadata": {
    "deletable": false,
    "editable": false,
    "nbgrader": {
     "cell_type": "markdown",
     "checksum": "8f971e1665bf96dbcf99a8ed5d92259c",
     "grade": false,
     "grade_id": "cell-6f372a487ac4d923",
     "locked": true,
     "schema_version": 3,
     "solution": false,
     "task": false
    }
   },
   "source": [
    "# EC Notebook for Lecture 25: Sampling and Confidence Intervals\n",
    "\n",
    "This extra credit Python notebook will let you practice the material you saw in lecture.  Completing all parts of this notebook will earn +1 extra credit point to your grade in STAT 107! :)\n",
    "\n",
    "This notebook is worth +1 if turned in before 11:30 am on **Monday, Oct. 28** *(30 minutes before the next STAT 107 lecture)*.  You can feel free to complete it anytime for extra practice."
   ]
  },
  {
   "cell_type": "markdown",
   "metadata": {
    "deletable": false,
    "editable": false,
    "nbgrader": {
     "cell_type": "markdown",
     "checksum": "529fea4efc153342c1e7cfd9517d9b2e",
     "grade": false,
     "grade_id": "cell-e7bfacb90768a3f8",
     "locked": true,
     "schema_version": 3,
     "solution": false,
     "task": false
    }
   },
   "source": [
    "## Confidence Intervals\n",
    "\n",
    "In the lecture, we learned about calculating standard error for the mean of a sample. Based on the standard error and the sample mean, we saw how to derive confidence intervals for population mean. <br>\n",
    "We will use the `gpa` dataset in this EC notebook. So first load the `gpa` dataset."
   ]
  },
  {
   "cell_type": "markdown",
   "metadata": {
    "deletable": false,
    "editable": false,
    "nbgrader": {
     "cell_type": "markdown",
     "checksum": "493ceee5e9e3d4c0b04be6c2ec753a48",
     "grade": false,
     "grade_id": "cell-372c6c5c537137fe",
     "locked": true,
     "schema_version": 3,
     "solution": false,
     "task": false
    }
   },
   "source": [
    "## Question 1: Sampling \n",
    "\n",
    "### 1(a) : The whole data (which we don't have access to in practice)\n",
    "We will look at the number of **A-** in each course. First plot a histogram of number of students who have obtained **A-**. You can adjust the bin size to visualise it properly. Next, calculate the mean of this column (this will be our population mean)."
   ]
  },
  {
   "cell_type": "code",
   "execution_count": 5,
   "metadata": {
    "deletable": false,
    "nbgrader": {
     "cell_type": "code",
     "checksum": "5e9ccf16e9f788a27bf91532002e5416",
     "grade": false,
     "grade_id": "cell-510886ab7ba9b0f6",
     "locked": false,
     "schema_version": 3,
     "solution": true,
     "task": false
    }
   },
   "outputs": [
    {
     "data": {
      "text/plain": [
       "<matplotlib.axes._subplots.AxesSubplot at 0x284d18d6a58>"
      ]
     },
     "execution_count": 5,
     "metadata": {},
     "output_type": "execute_result"
    },
    {
     "data": {
      "image/png": "[encoded data removed]",
      "text/plain": [
       "<Figure size 432x288 with 1 Axes>"
      ]
     },
     "metadata": {
      "needs_background": "light"
     },
     "output_type": "display_data"
    }
   ],
   "source": [
    "import pandas as pd\n",
    "\n",
    "#load the dataset and store it in df\n",
    "df = pd.read_csv(\"gpa.csv\")\n",
    "#plot the histogram for \"A-\"\n",
    "df['A-'].hist()\n",
    "# calculate the mean\n",
    "df['A-']\n"
   ]
  },
  {
   "cell_type": "code",
   "execution_count": null,
   "metadata": {
    "deletable": false,
    "editable": false,
    "nbgrader": {
     "cell_type": "code",
     "checksum": "d789022cf7a0cce19692c0675e62b409",
     "grade": true,
     "grade_id": "cell-e3af940b3396ec89",
     "locked": true,
     "points": 0,
     "schema_version": 3,
     "solution": false,
     "task": false
    }
   },
   "outputs": [],
   "source": [
    "## == TEST CASES for Question 1 ==\n",
    "# - This read-only cell contains test cases for your previous cell.\n",
    "# - If this cell runs without any error our output, you PASSED all test cases!\n",
    "# - If this cell results in any errors, check you previous cell, make changes, and RE-RUN your code and then this cell.\n",
    "\n",
    "assert( len(df) == 46545), \"Please check if you have loaded the dataset correctly!\"\n",
    "assert( round(mean_A_minus*len(df),1) == 343101), \"The mean seems incorrect!\"\n",
    "\n",
    "## == SUCCESS MESSAGE ==\n",
    "# You will only see this message (with the emoji showing) if you passed all test cases:\n",
    "tada = \"\\N{PARTY POPPER}\"\n",
    "print(f\"{tada} All tests passed! {tada}\")"
   ]
  },
  {
   "cell_type": "markdown",
   "metadata": {
    "deletable": false,
    "editable": false,
    "nbgrader": {
     "cell_type": "markdown",
     "checksum": "d174694ae3e605af59ed3e1aa28b8d77",
     "grade": false,
     "grade_id": "cell-3e654dc4b99688e6",
     "locked": true,
     "schema_version": 3,
     "solution": false,
     "task": false
    }
   },
   "source": [
    "### 1(b) Small sample (which we have access to in practice)\n",
    "Now, sample out 30 courses and calculate following three quantities for the number of students with \"A-\": <br>\n",
    "1) sample mean <br>\n",
    "2) standard error of the sample mean (sem)<br>\n",
    "3) 90% confidence interval for the mean"
   ]
  },
  {
   "cell_type": "code",
   "execution_count": null,
   "metadata": {
    "deletable": false,
    "nbgrader": {
     "cell_type": "code",
     "checksum": "a18448e6413d455ddfb4b66f4f0be66e",
     "grade": false,
     "grade_id": "cell-de509ab2d91b2a74",
     "locked": false,
     "schema_version": 3,
     "solution": true,
     "task": false
    }
   },
   "outputs": [],
   "source": [
    "# Draw 30 samples\n",
    "sample = ...\n",
    "\n",
    "sample_mean = ...\n",
    "sem = ...\n",
    "# z_value is the value such that probability from -z_value to z_value is 0.9 (90%)\n",
    "z_value = ...\n",
    "#left_ci is the leftmost point of our confidence interval\n",
    "left_ci = ...\n",
    "#right_ci is the rightmost point of our confidence interval\n",
    "right_ci = ...\n",
    "#confidence interval! Does population mean lie in this?\n",
    "print([left_ci, right_ci])\n",
    "\n"
   ]
  },
  {
   "cell_type": "code",
   "execution_count": null,
   "metadata": {
    "deletable": false,
    "editable": false,
    "nbgrader": {
     "cell_type": "code",
     "checksum": "a2cd9b6dcedc69c20d0c27c3b2200b0f",
     "grade": true,
     "grade_id": "cell-90c8b537b0ca5a8f",
     "locked": true,
     "points": 1,
     "schema_version": 3,
     "solution": false,
     "task": false
    }
   },
   "outputs": [],
   "source": [
    "## == TEST CASES for Question 1 ==\n",
    "# - This read-only cell contains test cases for your previous cell.\n",
    "# - If this cell runs without any error our output, you PASSED all test cases!\n",
    "# - If this cell results in any errors, check you previous cell, make changes, and RE-RUN your code and then this cell.\n",
    "\n",
    "assert( len(sample) == 30), \"Only 30 samples are needed!\"\n",
    "assert(norm.cdf(z_value) == 0.95), \"The z_value doesn't seem right!\"\n",
    "\n",
    "## == SUCCESS MESSAGE ==\n",
    "# You will only see this message (with the emoji showing) if you passed all test cases:\n",
    "tada = \"\\N{PARTY POPPER}\"\n",
    "print(f\"{tada} All tests passed! {tada}\")"
   ]
  },
  {
   "cell_type": "markdown",
   "metadata": {
    "deletable": false,
    "editable": false,
    "nbgrader": {
     "cell_type": "markdown",
     "checksum": "b7bce0e8fe0bceda6ef404be6ecc0e80",
     "grade": false,
     "grade_id": "cell-2937dacb89c90903",
     "locked": true,
     "schema_version": 3,
     "solution": false,
     "task": false
    }
   },
   "source": [
    "## Question 2: Larger sample.\n",
    "\n",
    "Now, we will repeat the previous part with larger sample size. Take 1000 samples and recalculate the quantities as above. Note how the interval size changes!"
   ]
  },
  {
   "cell_type": "code",
   "execution_count": null,
   "metadata": {
    "deletable": false,
    "nbgrader": {
     "cell_type": "code",
     "checksum": "445aa95e43f09b8f9a592bf284c31ed9",
     "grade": false,
     "grade_id": "cell-0ec527703ee58a75",
     "locked": false,
     "schema_version": 3,
     "solution": true,
     "task": false
    }
   },
   "outputs": [],
   "source": [
    "# Draw 1000 samples\n",
    "sample_new = ...\n",
    "\n",
    "sample_new_mean = ...\n",
    "sem_new = ...\n",
    "# z_value is the value such that probability from -z_value to z_value is 0.9 (90%)\n",
    "z_value = ...\n",
    "#left_ci is the leftmost point of our confidence interval\n",
    "left_ci_new = ...\n",
    "#right_ci is the rightmost point of our confidence interval\n",
    "right_ci_new = ...\n",
    "#confidence interval! Does population mean lie in this?\n",
    "print([left_ci_new, right_ci_new])\n",
    "\n"
   ]
  },
  {
   "cell_type": "code",
   "execution_count": null,
   "metadata": {
    "deletable": false,
    "editable": false,
    "nbgrader": {
     "cell_type": "code",
     "checksum": "dd3d02526c2133bc929dd852183e98e1",
     "grade": true,
     "grade_id": "cell-6ecf73f839b3f0f3",
     "locked": true,
     "points": 1,
     "schema_version": 3,
     "solution": false,
     "task": false
    }
   },
   "outputs": [],
   "source": [
    "## == TEST CASES for Question 1 ==\n",
    "# - This read-only cell contains test cases for your previous cell.\n",
    "# - If this cell runs without any error our output, you PASSED all test cases!\n",
    "# - If this cell results in any errors, check you previous cell, make changes, and RE-RUN your code and then this cell.\n",
    "\n",
    "assert( len(sample_new) == 1000), \"1000 samples are needed!\"\n",
    "assert(norm.cdf(z_value) == 0.95), \"The z_value doesn't seem right!\"\n",
    "\n",
    "## == SUCCESS MESSAGE ==\n",
    "# You will only see this message (with the emoji showing) if you passed all test cases:\n",
    "tada = \"\\N{PARTY POPPER}\"\n",
    "print(f\"{tada} All tests passed! {tada}\")"
   ]
  },
  {
   "cell_type": "markdown",
   "metadata": {
    "deletable": false,
    "editable": false,
    "nbgrader": {
     "cell_type": "markdown",
     "checksum": "93f53d4d59e618f214c0704883a97ee5",
     "grade": false,
     "grade_id": "cell-54d5a462e812ad44",
     "locked": true,
     "schema_version": 3,
     "solution": false,
     "task": false
    }
   },
   "source": [
    "## Submit Your Work :)\n",
    "\n",
    "Make sure to **Save and Checkpoint** your notebook, exit Jupyter, and submit your work! :)"
   ]
  }
 ],
 "metadata": {
  "kernelspec": {
   "display_name": "Python 3",
   "language": "python",
   "name": "python3"
  },
  "language_info": {
   "codemirror_mode": {
    "name": "ipython",
    "version": 3
   },
   "file_extension": ".py",
   "mimetype": "text/x-python",
   "name": "python",
   "nbconvert_exporter": "python",
   "pygments_lexer": "ipython3",
   "version": "3.7.3"
  }
 },
 "nbformat": 4,
 "nbformat_minor": 2
}
