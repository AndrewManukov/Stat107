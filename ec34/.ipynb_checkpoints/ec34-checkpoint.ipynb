{
 "cells": [
  {
   "cell_type": "markdown",
   "metadata": {
    "deletable": false,
    "editable": false,
    "nbgrader": {
     "cell_type": "markdown",
     "checksum": "18a03110164a467c98e59fa8c877dd9f",
     "grade": false,
     "grade_id": "cell-67e7afc4b4ff4e96",
     "locked": true,
     "schema_version": 3,
     "solution": false,
     "task": false
    }
   },
   "source": [
    "## EC Notebook for Lecture 34: Hypothesis Testing\n",
    "\n",
    "This extra credit Python notebook will let you practice the material you saw in lecture.  Completing all parts of this notebook will earn +1 extra credit point to your grade in STAT 107! :)\n",
    "\n",
    "This notebook is worth +1 if turned in before 11:30 am on **Wednesday, Nov. 20** *(30 minutes before the next STAT 107 lecture)*.  You can feel free to complete it anytime for extra practice."
   ]
  },
  {
   "cell_type": "markdown",
   "metadata": {},
   "source": [
    "### The GPA Dataset\n",
    "\n",
    "In the previous labs and ECs, we have calculated the average GPA for all the courses as below."
   ]
  },
  {
   "cell_type": "code",
   "execution_count": 2,
   "metadata": {},
   "outputs": [
    {
     "data": {
      "text/html": [
       "<div>\n",
       "<style scoped>\n",
       "    .dataframe tbody tr th:only-of-type {\n",
       "        vertical-align: middle;\n",
       "    }\n",
       "\n",
       "    .dataframe tbody tr th {\n",
       "        vertical-align: top;\n",
       "    }\n",
       "\n",
       "    .dataframe thead th {\n",
       "        text-align: right;\n",
       "    }\n",
       "</style>\n",
       "<table border=\"1\" class=\"dataframe\">\n",
       "  <thead>\n",
       "    <tr style=\"text-align: right;\">\n",
       "      <th></th>\n",
       "      <th>Year</th>\n",
       "      <th>Term</th>\n",
       "      <th>YearTerm</th>\n",
       "      <th>Subject</th>\n",
       "      <th>Number</th>\n",
       "      <th>Course Title</th>\n",
       "      <th>A+</th>\n",
       "      <th>A</th>\n",
       "      <th>A-</th>\n",
       "      <th>B+</th>\n",
       "      <th>...</th>\n",
       "      <th>C</th>\n",
       "      <th>C-</th>\n",
       "      <th>D+</th>\n",
       "      <th>D</th>\n",
       "      <th>D-</th>\n",
       "      <th>F</th>\n",
       "      <th>W</th>\n",
       "      <th>Primary Instructor</th>\n",
       "      <th>size</th>\n",
       "      <th>GPA</th>\n",
       "    </tr>\n",
       "  </thead>\n",
       "  <tbody>\n",
       "    <tr>\n",
       "      <td>18293</td>\n",
       "      <td>2015</td>\n",
       "      <td>Spring</td>\n",
       "      <td>2015-sp</td>\n",
       "      <td>CHLH</td>\n",
       "      <td>101</td>\n",
       "      <td>Introduction to Public Health</td>\n",
       "      <td>0</td>\n",
       "      <td>7</td>\n",
       "      <td>4</td>\n",
       "      <td>9</td>\n",
       "      <td>...</td>\n",
       "      <td>4</td>\n",
       "      <td>1</td>\n",
       "      <td>0</td>\n",
       "      <td>1</td>\n",
       "      <td>1</td>\n",
       "      <td>0</td>\n",
       "      <td>0</td>\n",
       "      <td>Weisman, Courtney J</td>\n",
       "      <td>48</td>\n",
       "      <td>2.972292</td>\n",
       "    </tr>\n",
       "    <tr>\n",
       "      <td>12468</td>\n",
       "      <td>2016</td>\n",
       "      <td>Fall</td>\n",
       "      <td>2016-fa</td>\n",
       "      <td>PSYC</td>\n",
       "      <td>350</td>\n",
       "      <td>Personality Lab</td>\n",
       "      <td>0</td>\n",
       "      <td>53</td>\n",
       "      <td>0</td>\n",
       "      <td>0</td>\n",
       "      <td>...</td>\n",
       "      <td>1</td>\n",
       "      <td>0</td>\n",
       "      <td>0</td>\n",
       "      <td>1</td>\n",
       "      <td>0</td>\n",
       "      <td>2</td>\n",
       "      <td>0</td>\n",
       "      <td>Fraley, Robert C</td>\n",
       "      <td>70</td>\n",
       "      <td>3.628571</td>\n",
       "    </tr>\n",
       "    <tr>\n",
       "      <td>5686</td>\n",
       "      <td>2017</td>\n",
       "      <td>Fall</td>\n",
       "      <td>2017-fa</td>\n",
       "      <td>CHEM</td>\n",
       "      <td>105</td>\n",
       "      <td>General Chemistry Lab II</td>\n",
       "      <td>10</td>\n",
       "      <td>12</td>\n",
       "      <td>5</td>\n",
       "      <td>2</td>\n",
       "      <td>...</td>\n",
       "      <td>0</td>\n",
       "      <td>0</td>\n",
       "      <td>0</td>\n",
       "      <td>0</td>\n",
       "      <td>0</td>\n",
       "      <td>0</td>\n",
       "      <td>0</td>\n",
       "      <td>Strasser, Caitlyn E</td>\n",
       "      <td>31</td>\n",
       "      <td>3.839032</td>\n",
       "    </tr>\n",
       "    <tr>\n",
       "      <td>37745</td>\n",
       "      <td>2011</td>\n",
       "      <td>Spring</td>\n",
       "      <td>2011-sp</td>\n",
       "      <td>ME</td>\n",
       "      <td>471</td>\n",
       "      <td>Finite Element Analysis</td>\n",
       "      <td>1</td>\n",
       "      <td>30</td>\n",
       "      <td>7</td>\n",
       "      <td>1</td>\n",
       "      <td>...</td>\n",
       "      <td>2</td>\n",
       "      <td>0</td>\n",
       "      <td>1</td>\n",
       "      <td>0</td>\n",
       "      <td>0</td>\n",
       "      <td>0</td>\n",
       "      <td>0</td>\n",
       "      <td>Koric, Seid</td>\n",
       "      <td>48</td>\n",
       "      <td>3.653125</td>\n",
       "    </tr>\n",
       "    <tr>\n",
       "      <td>4484</td>\n",
       "      <td>2018</td>\n",
       "      <td>Spring</td>\n",
       "      <td>2018-sp</td>\n",
       "      <td>PSYC</td>\n",
       "      <td>235</td>\n",
       "      <td>Intro to Statistics</td>\n",
       "      <td>5</td>\n",
       "      <td>7</td>\n",
       "      <td>4</td>\n",
       "      <td>2</td>\n",
       "      <td>...</td>\n",
       "      <td>2</td>\n",
       "      <td>2</td>\n",
       "      <td>0</td>\n",
       "      <td>1</td>\n",
       "      <td>1</td>\n",
       "      <td>2</td>\n",
       "      <td>0</td>\n",
       "      <td>Wang, Michelle Y</td>\n",
       "      <td>36</td>\n",
       "      <td>2.945000</td>\n",
       "    </tr>\n",
       "  </tbody>\n",
       "</table>\n",
       "<p>5 rows × 23 columns</p>\n",
       "</div>"
      ],
      "text/plain": [
       "       Year    Term YearTerm Subject  Number                   Course Title  \\\n",
       "18293  2015  Spring  2015-sp    CHLH     101  Introduction to Public Health   \n",
       "12468  2016    Fall  2016-fa    PSYC     350                Personality Lab   \n",
       "5686   2017    Fall  2017-fa    CHEM     105       General Chemistry Lab II   \n",
       "37745  2011  Spring  2011-sp      ME     471        Finite Element Analysis   \n",
       "4484   2018  Spring  2018-sp    PSYC     235            Intro to Statistics   \n",
       "\n",
       "       A+   A  A-  B+  ...  C  C-  D+  D  D-  F  W   Primary Instructor  size  \\\n",
       "18293   0   7   4   9  ...  4   1   0  1   1  0  0  Weisman, Courtney J    48   \n",
       "12468   0  53   0   0  ...  1   0   0  1   0  2  0     Fraley, Robert C    70   \n",
       "5686   10  12   5   2  ...  0   0   0  0   0  0  0  Strasser, Caitlyn E    31   \n",
       "37745   1  30   7   1  ...  2   0   1  0   0  0  0          Koric, Seid    48   \n",
       "4484    5   7   4   2  ...  2   2   0  1   1  2  0     Wang, Michelle Y    36   \n",
       "\n",
       "            GPA  \n",
       "18293  2.972292  \n",
       "12468  3.628571  \n",
       "5686   3.839032  \n",
       "37745  3.653125  \n",
       "4484   2.945000  \n",
       "\n",
       "[5 rows x 23 columns]"
      ]
     },
     "execution_count": 2,
     "metadata": {},
     "output_type": "execute_result"
    }
   ],
   "source": [
    "import pandas as pd\n",
    "df = pd.read_csv(\"gpa.csv\")\n",
    "df[\"size\"] = 0\n",
    "df[\"GPA\"] = 0\n",
    "\n",
    "grades = [\"A+\", \"A\", \"A-\", \"B+\", \"B\", \"B-\", \"C+\", \"C\", \"C-\", \"D+\", \"D\", \"D-\", \"F\"]\n",
    "points = [4, 4, 3.67, 3.33, 3, 2.67, 2.33, 2, 1.67, 1.33, 1, 0.67, 0]\n",
    "for i in range(len(grades)):\n",
    "    df[\"size\"] += df[grades[i]]\n",
    "    df[\"GPA\"] += df[grades[i]] * points[i]\n",
    "df[\"GPA\"] /= df[\"size\"]\n",
    "df.sample(5)"
   ]
  },
  {
   "cell_type": "markdown",
   "metadata": {
    "deletable": false,
    "editable": false,
    "nbgrader": {
     "cell_type": "markdown",
     "checksum": "65121f2c9055dd77fbbff83d0ab319fb",
     "grade": false,
     "grade_id": "cell-959f443304692271",
     "locked": true,
     "schema_version": 3,
     "solution": false,
     "task": false
    }
   },
   "source": [
    "## 1. The One-Sample Z Test\n",
    "\n",
    "Suppose someone claims that the average GPA of all the courses in UIUC is 3.33, and you want to find out whether this number is trustworthy. However, you don't have permission to access the whole dataset except for a random sample of 100 courses. How can you test the given claim?\n",
    "\n",
    "### z-test for means\n",
    "Randomly sample 100 courses from the given DataFrame, calculate the p-value of this sample. "
   ]
  },
  {
   "cell_type": "code",
   "execution_count": 22,
   "metadata": {},
   "outputs": [],
   "source": [
    "from scipy.stats import norm\n",
    "import random"
   ]
  },
  {
   "cell_type": "code",
   "execution_count": 12,
   "metadata": {
    "deletable": false,
    "nbgrader": {
     "cell_type": "code",
     "checksum": "69161e3ca731309a60ed864c37706668",
     "grade": false,
     "grade_id": "cell-3182d2cfb9079fe2",
     "locked": false,
     "schema_version": 3,
     "solution": true,
     "task": false
    }
   },
   "outputs": [
    {
     "data": {
      "text/plain": [
       "0.7826426613348267"
      ]
     },
     "execution_count": 12,
     "metadata": {},
     "output_type": "execute_result"
    }
   ],
   "source": [
    "df_sample = df.sample(100)\n",
    "z = 10 * (3.33 - df_sample[\"GPA\"].mean()) / df_sample[\"GPA\"].std()\n",
    "p_value = norm.cdf(z)\n",
    "\n",
    "\n",
    "p_value"
   ]
  },
  {
   "cell_type": "markdown",
   "metadata": {},
   "source": [
    "### z-test for proportions\n",
    "\n",
    "Someone also claims that 26% of courses in the DataFrame have over 50 students. To test this claim, you are going to \n",
    "1. create a function to randomly sample 100 classes and return the number of courses whose size is larger than 50.\n",
    "2. Run the sampling function for 100 times and store the results in a new DataFrame `df_res`.\n",
    "3. Find the min, max and average of the number."
   ]
  },
  {
   "cell_type": "code",
   "execution_count": 30,
   "metadata": {
    "deletable": false,
    "nbgrader": {
     "cell_type": "code",
     "checksum": "51ae14bfb0a63d4e334e70f9a9c8d33d",
     "grade": false,
     "grade_id": "cell-060c81a4477630d2",
     "locked": false,
     "schema_version": 3,
     "solution": true,
     "task": false
    }
   },
   "outputs": [
    {
     "name": "stdout",
     "output_type": "stream",
     "text": [
      "15 37 26\n"
     ]
    }
   ],
   "source": [
    "def sample_class():\n",
    "    count = 0\n",
    "    for i in range(100):\n",
    "        if random.randint(1,100) <= 26:\n",
    "            count += 1\n",
    "    return count\n",
    "\n",
    "data = []\n",
    "for i in range(100):\n",
    "    d = {\"over 50\" : sample_class() }\n",
    "    data.append(d)\n",
    "\n",
    "df_res = pd.DataFrame(data)\n",
    "res_min = df_res.min()\n",
    "res_max = df_res.max()\n",
    "res_avg = df_res.mean()\n",
    "\n",
    "print(int(res_min), int(res_max), int(res_avg))"
   ]
  },
  {
   "cell_type": "code",
   "execution_count": 31,
   "metadata": {
    "deletable": false,
    "editable": false,
    "nbgrader": {
     "cell_type": "code",
     "checksum": "ec07dd13d8914623b5b65e74509248b3",
     "grade": true,
     "grade_id": "cell-621e2757b30ebf38",
     "locked": true,
     "points": 1,
     "schema_version": 3,
     "solution": false,
     "task": false
    }
   },
   "outputs": [
    {
     "name": "stdout",
     "output_type": "stream",
     "text": [
      "🎉 All tests passed! 🎉\n",
      "\n"
     ]
    }
   ],
   "source": [
    "## == TEST CASES for Part 1,2,3 ==\n",
    "# - This read-only cell contains test cases for your previous cell.\n",
    "# - If this cell runs without any error our output, you PASSED all test cases!\n",
    "# - If this cell results in any errors, check you previous cell, make changes, and RE-RUN your code and then this cell.\n",
    "\n",
    "assert(len(df_sample) == 100), \"Make sure you sample 100 classes.\"\n",
    "assert(p_value > 0.01), \"Make sure you calculate the right p value.\"\n",
    "assert(sample_class() < 50), \"Make sure you create the right function.\"\n",
    "assert(len(df_res) == 100), \"Make sure you create the right dataframe df_res.\"\n",
    "assert(int(res_min) < 20 and int(res_max) > 30 and abs(int(res_avg)-26)<2), \"Make sure you create the right dataframe df_class.\"\n",
    "\n",
    "\n",
    "## == SUCCESS MESSAGE ==\n",
    "# You will only see this message (with the emoji showing) if you passed all test cases:\n",
    "tada = \"\\N{PARTY POPPER}\"\n",
    "print(f\"{tada} All tests passed! {tada}\")\n",
    "print()\n"
   ]
  },
  {
   "cell_type": "code",
   "execution_count": null,
   "metadata": {},
   "outputs": [],
   "source": []
  },
  {
   "cell_type": "code",
   "execution_count": null,
   "metadata": {},
   "outputs": [],
   "source": []
  }
 ],
 "metadata": {
  "kernelspec": {
   "display_name": "Python 3",
   "language": "python",
   "name": "python3"
  },
  "language_info": {
   "codemirror_mode": {
    "name": "ipython",
    "version": 3
   },
   "file_extension": ".py",
   "mimetype": "text/x-python",
   "name": "python",
   "nbconvert_exporter": "python",
   "pygments_lexer": "ipython3",
   "version": "3.7.3"
  }
 },
 "nbformat": 4,
 "nbformat_minor": 2
}
