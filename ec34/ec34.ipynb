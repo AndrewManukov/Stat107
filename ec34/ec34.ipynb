{
 "cells": [
  {
   "cell_type": "markdown",
   "metadata": {
    "deletable": false,
    "editable": false,
    "nbgrader": {
     "cell_type": "markdown",
     "checksum": "18a03110164a467c98e59fa8c877dd9f",
     "grade": false,
     "grade_id": "cell-67e7afc4b4ff4e96",
     "locked": true,
     "schema_version": 3,
     "solution": false,
     "task": false
    }
   },
   "source": [
    "## EC Notebook for Lecture 34: Hypothesis Testing\n",
    "\n",
    "This extra credit Python notebook will let you practice the material you saw in lecture.  Completing all parts of this notebook will earn +1 extra credit point to your grade in STAT 107! :)\n",
    "\n",
    "This notebook is worth +1 if turned in before 11:30 am on **Wednesday, Nov. 20** *(30 minutes before the next STAT 107 lecture)*.  You can feel free to complete it anytime for extra practice."
   ]
  },
  {
   "cell_type": "markdown",
   "metadata": {},
   "source": [
    "### The GPA Dataset\n",
    "\n",
    "In the previous labs and ECs, we have calculated the average GPA for all the courses as below."
   ]
  },
  {
   "cell_type": "code",
   "execution_count": null,
   "metadata": {},
   "outputs": [],
   "source": [
    "import pandas as pd\n",
    "df = pd.read_csv(\"gpa.csv\")\n",
    "df[\"size\"] = 0\n",
    "df[\"GPA\"] = 0\n",
    "\n",
    "grades = [\"A+\", \"A\", \"A-\", \"B+\", \"B\", \"B-\", \"C+\", \"C\", \"C-\", \"D+\", \"D\", \"D-\", \"F\"]\n",
    "points = [4, 4, 3.67, 3.33, 3, 2.67, 2.33, 2, 1.67, 1.33, 1, 0.67, 0]\n",
    "for i in range(len(grades)):\n",
    "    df[\"size\"] += df[grades[i]]\n",
    "    df[\"GPA\"] += df[grades[i]] * points[i]\n",
    "df[\"GPA\"] /= df[\"size\"]\n",
    "df.sample(5)"
   ]
  },
  {
   "cell_type": "markdown",
   "metadata": {
    "deletable": false,
    "editable": false,
    "nbgrader": {
     "cell_type": "markdown",
     "checksum": "65121f2c9055dd77fbbff83d0ab319fb",
     "grade": false,
     "grade_id": "cell-959f443304692271",
     "locked": true,
     "schema_version": 3,
     "solution": false,
     "task": false
    }
   },
   "source": [
    "## 1. The One-Sample Z Test\n",
    "\n",
    "Suppose someone claims that the average GPA of all the courses in UIUC is 3.33, and you want to find out whether this number is trustworthy. However, you don't have permission to access the whole dataset except for a random sample of 100 courses. How can you test the given claim?\n",
    "\n",
    "### z-test for means\n",
    "Randomly sample 100 courses from the given DataFrame, calculate the p-value of this sample. "
   ]
  },
  {
   "cell_type": "code",
   "execution_count": null,
   "metadata": {
    "deletable": false,
    "nbgrader": {
     "cell_type": "code",
     "checksum": "69161e3ca731309a60ed864c37706668",
     "grade": false,
     "grade_id": "cell-3182d2cfb9079fe2",
     "locked": false,
     "schema_version": 3,
     "solution": true,
     "task": false
    }
   },
   "outputs": [],
   "source": [
    "df_sample = ...\n",
    "p_value = ...\n",
    "\n",
    "\n",
    "p_value"
   ]
  },
  {
   "cell_type": "markdown",
   "metadata": {},
   "source": [
    "### z-test for proportions\n",
    "\n",
    "Someone also claims that 26% of courses in the DataFrame have over 50 students. To test this claim, you are going to \n",
    "1. create a function to randomly sample 100 classes and return the number of courses whose size is larger than 50.\n",
    "2. Run the sampling function for 100 times and store the results in a new DataFrame `df_res`.\n",
    "3. Find the min, max and average of the number."
   ]
  },
  {
   "cell_type": "code",
   "execution_count": null,
   "metadata": {
    "deletable": false,
    "nbgrader": {
     "cell_type": "code",
     "checksum": "51ae14bfb0a63d4e334e70f9a9c8d33d",
     "grade": false,
     "grade_id": "cell-060c81a4477630d2",
     "locked": false,
     "schema_version": 3,
     "solution": true,
     "task": false
    }
   },
   "outputs": [],
   "source": [
    "def sample_class():\n",
    "    ...\n",
    "\n",
    "df_res = ...\n",
    "res_min = ...\n",
    "res_max = ...\n",
    "res_avg = ...\n",
    "\n",
    "\n",
    "print(int(res_min), int(res_max), int(res_avg))"
   ]
  },
  {
   "cell_type": "code",
   "execution_count": null,
   "metadata": {
    "deletable": false,
    "editable": false,
    "nbgrader": {
     "cell_type": "code",
     "checksum": "ec07dd13d8914623b5b65e74509248b3",
     "grade": true,
     "grade_id": "cell-621e2757b30ebf38",
     "locked": true,
     "points": 1,
     "schema_version": 3,
     "solution": false,
     "task": false
    }
   },
   "outputs": [],
   "source": [
    "## == TEST CASES for Part 1,2,3 ==\n",
    "# - This read-only cell contains test cases for your previous cell.\n",
    "# - If this cell runs without any error our output, you PASSED all test cases!\n",
    "# - If this cell results in any errors, check you previous cell, make changes, and RE-RUN your code and then this cell.\n",
    "\n",
    "assert(len(df_sample) == 100), \"Make sure you sample 100 classes.\"\n",
    "assert(p_value > 0.01), \"Make sure you calculate the right p value.\"\n",
    "assert(sample_class() < 50), \"Make sure you create the right function.\"\n",
    "assert(len(df_res) == 100), \"Make sure you create the right dataframe df_res.\"\n",
    "assert(int(res_min) < 20 and int(res_max) > 30 and abs(int(res_avg)-26)<2), \"Make sure you create the right dataframe df_class.\"\n",
    "\n",
    "\n",
    "## == SUCCESS MESSAGE ==\n",
    "# You will only see this message (with the emoji showing) if you passed all test cases:\n",
    "tada = \"\\N{PARTY POPPER}\"\n",
    "print(f\"{tada} All tests passed! {tada}\")\n",
    "print()\n"
   ]
  },
  {
   "cell_type": "code",
   "execution_count": null,
   "metadata": {},
   "outputs": [],
   "source": []
  },
  {
   "cell_type": "code",
   "execution_count": null,
   "metadata": {},
   "outputs": [],
   "source": []
  }
 ],
 "metadata": {
  "kernelspec": {
   "display_name": "Python 3",
   "language": "python",
   "name": "python3"
  },
  "language_info": {
   "codemirror_mode": {
    "name": "ipython",
    "version": 3
   },
   "file_extension": ".py",
   "mimetype": "text/x-python",
   "name": "python",
   "nbconvert_exporter": "python",
   "pygments_lexer": "ipython3",
   "version": "3.7.3"
  }
 },
 "nbformat": 4,
 "nbformat_minor": 2
}
